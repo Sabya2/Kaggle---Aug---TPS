{
  "nbformat": 4,
  "nbformat_minor": 0,
  "metadata": {
    "colab": {
      "name": "TPS-Aug.ipynb",
      "provenance": [],
      "collapsed_sections": [
        "hUH7c6Mmq1OB",
        "PCQG7RV4JKJ7",
        "9B2WVg4b49xx",
        "7zjn3yXuShtK",
        "QURvdvO9fUiy"
      ],
      "mount_file_id": "1mhKtOBS60hKn__fewADnGFRRcmCXUYmr",
      "authorship_tag": "ABX9TyN2m79MCx6IqFiiaGe4DlOq",
      "include_colab_link": true
    },
    "kernelspec": {
      "display_name": "Python 3",
      "name": "python3"
    },
    "language_info": {
      "name": "python"
    }
  },
  "cells": [
    {
      "cell_type": "markdown",
      "metadata": {
        "id": "view-in-github",
        "colab_type": "text"
      },
      "source": [
        "<a href=\"https://colab.research.google.com/github/Sabya2/Kaggle---Aug---TPS/blob/main/TPS_Aug.ipynb\" target=\"_parent\"><img src=\"https://colab.research.google.com/assets/colab-badge.svg\" alt=\"Open In Colab\"/></a>"
      ]
    },
    {
      "cell_type": "markdown",
      "metadata": {
        "id": "H2xNRR0YlAHf"
      },
      "source": [
        "# Importing "
      ]
    },
    {
      "cell_type": "code",
      "metadata": {
        "id": "1Y2XiwopjfVZ"
      },
      "source": [
        "import pandas as pd\n",
        "import seaborn as sns\n",
        "import numpy as np\n",
        "from sklearn.model_selection import train_test_split\n",
        "import matplotlib as mpl\n",
        "import matplotlib.pyplot as plt\n",
        "%matplotlib inline\n",
        "import lightgbm as lgb\n",
        "from sklearn.model_selection import RandomizedSearchCV"
      ],
      "execution_count": null,
      "outputs": []
    },
    {
      "cell_type": "code",
      "metadata": {
        "colab": {
          "base_uri": "https://localhost:8080/"
        },
        "id": "xZKPpmjLnWMN",
        "outputId": "d4535ed1-b873-43af-d33f-df8fc1468ce0"
      },
      "source": [
        "train = pd.read_csv(\"/content/drive/MyDrive/Kaggle data/tabular-playground-series-aug-2021/train.csv\")\n",
        "test = pd.read_csv(\"/content/drive/MyDrive/Kaggle data/tabular-playground-series-aug-2021/test.csv\")\n",
        "submission = pd.read_csv(\"/content/drive/MyDrive/Kaggle data/tabular-playground-series-aug-2021/sample_submission.csv\")\n",
        "\n",
        "# I'll remove the ID column of both train and test, cause they are of no use here\n",
        "train.drop(columns = 'id', inplace = True)\n",
        "test.drop(columns = 'id', inplace =True)\n",
        "\n",
        "# Check\n",
        "print('train columns', train.columns)\n",
        "print('test columns', test.columns)"
      ],
      "execution_count": null,
      "outputs": [
        {
          "output_type": "stream",
          "name": "stdout",
          "text": [
            "train columns Index(['f0', 'f1', 'f2', 'f3', 'f4', 'f5', 'f6', 'f7', 'f8', 'f9',\n",
            "       ...\n",
            "       'f91', 'f92', 'f93', 'f94', 'f95', 'f96', 'f97', 'f98', 'f99', 'loss'],\n",
            "      dtype='object', length=101)\n",
            "test columns Index(['f0', 'f1', 'f2', 'f3', 'f4', 'f5', 'f6', 'f7', 'f8', 'f9', 'f10',\n",
            "       'f11', 'f12', 'f13', 'f14', 'f15', 'f16', 'f17', 'f18', 'f19', 'f20',\n",
            "       'f21', 'f22', 'f23', 'f24', 'f25', 'f26', 'f27', 'f28', 'f29', 'f30',\n",
            "       'f31', 'f32', 'f33', 'f34', 'f35', 'f36', 'f37', 'f38', 'f39', 'f40',\n",
            "       'f41', 'f42', 'f43', 'f44', 'f45', 'f46', 'f47', 'f48', 'f49', 'f50',\n",
            "       'f51', 'f52', 'f53', 'f54', 'f55', 'f56', 'f57', 'f58', 'f59', 'f60',\n",
            "       'f61', 'f62', 'f63', 'f64', 'f65', 'f66', 'f67', 'f68', 'f69', 'f70',\n",
            "       'f71', 'f72', 'f73', 'f74', 'f75', 'f76', 'f77', 'f78', 'f79', 'f80',\n",
            "       'f81', 'f82', 'f83', 'f84', 'f85', 'f86', 'f87', 'f88', 'f89', 'f90',\n",
            "       'f91', 'f92', 'f93', 'f94', 'f95', 'f96', 'f97', 'f98', 'f99'],\n",
            "      dtype='object')\n"
          ]
        }
      ]
    },
    {
      "cell_type": "markdown",
      "metadata": {
        "id": "EGSOR108rRBR"
      },
      "source": [
        "# Steps or Plans for the August TPS 2021\n",
        " \n",
        "* Check out the feature data types and the target feature \n",
        "* Watch out for missing values\n",
        "* Explore the data with some graphs\n",
        "* Check for outliers or any other anomalies, will update as I proceed with the data exploration\n",
        "* Transformation based on the anomalies\n",
        "* Graphs and the data will tell me the type of model(s) I should go for"
      ]
    },
    {
      "cell_type": "markdown",
      "metadata": {
        "id": "hUH7c6Mmq1OB"
      },
      "source": [
        "# Extracting Information"
      ]
    },
    {
      "cell_type": "code",
      "metadata": {
        "colab": {
          "base_uri": "https://localhost:8080/",
          "height": 357
        },
        "id": "xRZxYKzCtHNv",
        "outputId": "b2a0d7eb-ae2d-4937-f4fb-a94792a2c220"
      },
      "source": [
        "print('train shape', train.shape)\n",
        "train.describe()"
      ],
      "execution_count": null,
      "outputs": [
        {
          "output_type": "stream",
          "text": [
            "train shape (250000, 101)\n"
          ],
          "name": "stdout"
        },
        {
          "output_type": "execute_result",
          "data": {
            "text/html": [
              "<div>\n",
              "<style scoped>\n",
              "    .dataframe tbody tr th:only-of-type {\n",
              "        vertical-align: middle;\n",
              "    }\n",
              "\n",
              "    .dataframe tbody tr th {\n",
              "        vertical-align: top;\n",
              "    }\n",
              "\n",
              "    .dataframe thead th {\n",
              "        text-align: right;\n",
              "    }\n",
              "</style>\n",
              "<table border=\"1\" class=\"dataframe\">\n",
              "  <thead>\n",
              "    <tr style=\"text-align: right;\">\n",
              "      <th></th>\n",
              "      <th>f0</th>\n",
              "      <th>f1</th>\n",
              "      <th>f2</th>\n",
              "      <th>f3</th>\n",
              "      <th>f4</th>\n",
              "      <th>f5</th>\n",
              "      <th>f6</th>\n",
              "      <th>f7</th>\n",
              "      <th>f8</th>\n",
              "      <th>f9</th>\n",
              "      <th>f10</th>\n",
              "      <th>f11</th>\n",
              "      <th>f12</th>\n",
              "      <th>f13</th>\n",
              "      <th>f14</th>\n",
              "      <th>f15</th>\n",
              "      <th>f16</th>\n",
              "      <th>f17</th>\n",
              "      <th>f18</th>\n",
              "      <th>f19</th>\n",
              "      <th>f20</th>\n",
              "      <th>f21</th>\n",
              "      <th>f22</th>\n",
              "      <th>f23</th>\n",
              "      <th>f24</th>\n",
              "      <th>f25</th>\n",
              "      <th>f26</th>\n",
              "      <th>f27</th>\n",
              "      <th>f28</th>\n",
              "      <th>f29</th>\n",
              "      <th>f30</th>\n",
              "      <th>f31</th>\n",
              "      <th>f32</th>\n",
              "      <th>f33</th>\n",
              "      <th>f34</th>\n",
              "      <th>f35</th>\n",
              "      <th>f36</th>\n",
              "      <th>f37</th>\n",
              "      <th>f38</th>\n",
              "      <th>f39</th>\n",
              "      <th>...</th>\n",
              "      <th>f61</th>\n",
              "      <th>f62</th>\n",
              "      <th>f63</th>\n",
              "      <th>f64</th>\n",
              "      <th>f65</th>\n",
              "      <th>f66</th>\n",
              "      <th>f67</th>\n",
              "      <th>f68</th>\n",
              "      <th>f69</th>\n",
              "      <th>f70</th>\n",
              "      <th>f71</th>\n",
              "      <th>f72</th>\n",
              "      <th>f73</th>\n",
              "      <th>f74</th>\n",
              "      <th>f75</th>\n",
              "      <th>f76</th>\n",
              "      <th>f77</th>\n",
              "      <th>f78</th>\n",
              "      <th>f79</th>\n",
              "      <th>f80</th>\n",
              "      <th>f81</th>\n",
              "      <th>f82</th>\n",
              "      <th>f83</th>\n",
              "      <th>f84</th>\n",
              "      <th>f85</th>\n",
              "      <th>f86</th>\n",
              "      <th>f87</th>\n",
              "      <th>f88</th>\n",
              "      <th>f89</th>\n",
              "      <th>f90</th>\n",
              "      <th>f91</th>\n",
              "      <th>f92</th>\n",
              "      <th>f93</th>\n",
              "      <th>f94</th>\n",
              "      <th>f95</th>\n",
              "      <th>f96</th>\n",
              "      <th>f97</th>\n",
              "      <th>f98</th>\n",
              "      <th>f99</th>\n",
              "      <th>loss</th>\n",
              "    </tr>\n",
              "  </thead>\n",
              "  <tbody>\n",
              "    <tr>\n",
              "      <th>count</th>\n",
              "      <td>250000.000000</td>\n",
              "      <td>250000.000000</td>\n",
              "      <td>250000.000000</td>\n",
              "      <td>250000.000000</td>\n",
              "      <td>250000.000000</td>\n",
              "      <td>250000.000000</td>\n",
              "      <td>250000.000000</td>\n",
              "      <td>250000.000000</td>\n",
              "      <td>250000.000000</td>\n",
              "      <td>250000.000000</td>\n",
              "      <td>250000.000000</td>\n",
              "      <td>250000.000000</td>\n",
              "      <td>250000.000000</td>\n",
              "      <td>250000.000000</td>\n",
              "      <td>250000.000000</td>\n",
              "      <td>250000.000000</td>\n",
              "      <td>2.500000e+05</td>\n",
              "      <td>250000.000000</td>\n",
              "      <td>250000.000000</td>\n",
              "      <td>250000.000000</td>\n",
              "      <td>250000.000000</td>\n",
              "      <td>250000.000000</td>\n",
              "      <td>250000.000000</td>\n",
              "      <td>250000.000000</td>\n",
              "      <td>250000.000000</td>\n",
              "      <td>250000.000000</td>\n",
              "      <td>250000.000000</td>\n",
              "      <td>250000.000000</td>\n",
              "      <td>250000.000000</td>\n",
              "      <td>250000.000000</td>\n",
              "      <td>250000.000000</td>\n",
              "      <td>250000.000000</td>\n",
              "      <td>250000.000000</td>\n",
              "      <td>250000.000000</td>\n",
              "      <td>250000.000000</td>\n",
              "      <td>250000.000000</td>\n",
              "      <td>250000.000000</td>\n",
              "      <td>250000.000000</td>\n",
              "      <td>250000.000000</td>\n",
              "      <td>250000.000000</td>\n",
              "      <td>...</td>\n",
              "      <td>250000.000000</td>\n",
              "      <td>250000.000000</td>\n",
              "      <td>250000.000000</td>\n",
              "      <td>250000.000000</td>\n",
              "      <td>250000.000000</td>\n",
              "      <td>250000.000000</td>\n",
              "      <td>250000.000000</td>\n",
              "      <td>250000.000000</td>\n",
              "      <td>250000.000000</td>\n",
              "      <td>250000.000000</td>\n",
              "      <td>250000.000000</td>\n",
              "      <td>250000.000000</td>\n",
              "      <td>250000.000000</td>\n",
              "      <td>250000.000000</td>\n",
              "      <td>250000.000000</td>\n",
              "      <td>250000.000000</td>\n",
              "      <td>250000.000000</td>\n",
              "      <td>250000.000000</td>\n",
              "      <td>250000.000000</td>\n",
              "      <td>250000.000000</td>\n",
              "      <td>250000.000000</td>\n",
              "      <td>250000.000000</td>\n",
              "      <td>250000.000000</td>\n",
              "      <td>250000.000000</td>\n",
              "      <td>250000.000000</td>\n",
              "      <td>250000.000000</td>\n",
              "      <td>250000.000000</td>\n",
              "      <td>250000.000000</td>\n",
              "      <td>250000.000000</td>\n",
              "      <td>250000.000000</td>\n",
              "      <td>250000.000000</td>\n",
              "      <td>250000.000000</td>\n",
              "      <td>250000.000000</td>\n",
              "      <td>250000.000000</td>\n",
              "      <td>250000.000000</td>\n",
              "      <td>250000.000000</td>\n",
              "      <td>250000.000000</td>\n",
              "      <td>250000.000000</td>\n",
              "      <td>250000.000000</td>\n",
              "      <td>250000.000000</td>\n",
              "    </tr>\n",
              "    <tr>\n",
              "      <th>mean</th>\n",
              "      <td>0.511213</td>\n",
              "      <td>51.378476</td>\n",
              "      <td>0.107155</td>\n",
              "      <td>0.050010</td>\n",
              "      <td>3595.133426</td>\n",
              "      <td>8.205953</td>\n",
              "      <td>164.508753</td>\n",
              "      <td>0.375533</td>\n",
              "      <td>16.669745</td>\n",
              "      <td>1.190382</td>\n",
              "      <td>0.063664</td>\n",
              "      <td>0.095226</td>\n",
              "      <td>136.746037</td>\n",
              "      <td>8.034918</td>\n",
              "      <td>0.614930</td>\n",
              "      <td>0.752971</td>\n",
              "      <td>8.891112e+06</td>\n",
              "      <td>0.009645</td>\n",
              "      <td>0.041674</td>\n",
              "      <td>0.074226</td>\n",
              "      <td>0.321328</td>\n",
              "      <td>9.928838</td>\n",
              "      <td>3622.094586</td>\n",
              "      <td>7.413526</td>\n",
              "      <td>-0.480271</td>\n",
              "      <td>6.046948</td>\n",
              "      <td>137.635093</td>\n",
              "      <td>47223.903504</td>\n",
              "      <td>5.469358</td>\n",
              "      <td>7.155835</td>\n",
              "      <td>1.206363</td>\n",
              "      <td>6.461029</td>\n",
              "      <td>-0.018490</td>\n",
              "      <td>1.574449</td>\n",
              "      <td>136.830167</td>\n",
              "      <td>173.530314</td>\n",
              "      <td>6.283875</td>\n",
              "      <td>0.157174</td>\n",
              "      <td>0.502435</td>\n",
              "      <td>0.848153</td>\n",
              "      <td>...</td>\n",
              "      <td>68.257992</td>\n",
              "      <td>4.672625</td>\n",
              "      <td>0.214381</td>\n",
              "      <td>1.194280</td>\n",
              "      <td>0.474751</td>\n",
              "      <td>0.216206</td>\n",
              "      <td>0.939638</td>\n",
              "      <td>1.668524</td>\n",
              "      <td>0.918009</td>\n",
              "      <td>68.939811</td>\n",
              "      <td>0.012219</td>\n",
              "      <td>64.709567</td>\n",
              "      <td>2.239319</td>\n",
              "      <td>3.495883</td>\n",
              "      <td>4430.718917</td>\n",
              "      <td>-0.159048</td>\n",
              "      <td>0.734153</td>\n",
              "      <td>6.416185</td>\n",
              "      <td>1.185112</td>\n",
              "      <td>1.973585</td>\n",
              "      <td>0.014504</td>\n",
              "      <td>-0.455453</td>\n",
              "      <td>0.245507</td>\n",
              "      <td>3.893001</td>\n",
              "      <td>4.400483</td>\n",
              "      <td>253.135672</td>\n",
              "      <td>0.258360</td>\n",
              "      <td>7.154004</td>\n",
              "      <td>7.759941</td>\n",
              "      <td>0.581002</td>\n",
              "      <td>4856.812768</td>\n",
              "      <td>22.579100</td>\n",
              "      <td>2.030554</td>\n",
              "      <td>0.079692</td>\n",
              "      <td>1.555097</td>\n",
              "      <td>2.417556</td>\n",
              "      <td>0.537484</td>\n",
              "      <td>1.576900</td>\n",
              "      <td>8.048805</td>\n",
              "      <td>6.813920</td>\n",
              "    </tr>\n",
              "    <tr>\n",
              "      <th>std</th>\n",
              "      <td>0.307884</td>\n",
              "      <td>42.396636</td>\n",
              "      <td>1.322200</td>\n",
              "      <td>0.792368</td>\n",
              "      <td>6072.401061</td>\n",
              "      <td>5.475723</td>\n",
              "      <td>183.335563</td>\n",
              "      <td>0.813597</td>\n",
              "      <td>99.758709</td>\n",
              "      <td>0.099700</td>\n",
              "      <td>2.433281</td>\n",
              "      <td>0.935765</td>\n",
              "      <td>14.422095</td>\n",
              "      <td>5.487786</td>\n",
              "      <td>1.619192</td>\n",
              "      <td>0.626172</td>\n",
              "      <td>8.508967e+06</td>\n",
              "      <td>0.103460</td>\n",
              "      <td>0.684975</td>\n",
              "      <td>0.739724</td>\n",
              "      <td>0.337792</td>\n",
              "      <td>5.661423</td>\n",
              "      <td>6328.918702</td>\n",
              "      <td>3.740530</td>\n",
              "      <td>0.712486</td>\n",
              "      <td>3.172873</td>\n",
              "      <td>15.710846</td>\n",
              "      <td>36013.179913</td>\n",
              "      <td>7.716520</td>\n",
              "      <td>3.443207</td>\n",
              "      <td>0.134848</td>\n",
              "      <td>2.451240</td>\n",
              "      <td>0.787275</td>\n",
              "      <td>1.109286</td>\n",
              "      <td>14.816130</td>\n",
              "      <td>201.166381</td>\n",
              "      <td>3.530354</td>\n",
              "      <td>1.728653</td>\n",
              "      <td>1.789297</td>\n",
              "      <td>0.627197</td>\n",
              "      <td>...</td>\n",
              "      <td>35.655549</td>\n",
              "      <td>2.913057</td>\n",
              "      <td>0.101787</td>\n",
              "      <td>0.099982</td>\n",
              "      <td>0.218068</td>\n",
              "      <td>0.098362</td>\n",
              "      <td>0.732696</td>\n",
              "      <td>10.179813</td>\n",
              "      <td>2.854904</td>\n",
              "      <td>38.940318</td>\n",
              "      <td>0.090087</td>\n",
              "      <td>31.343334</td>\n",
              "      <td>0.735150</td>\n",
              "      <td>1.935741</td>\n",
              "      <td>8050.232085</td>\n",
              "      <td>0.840284</td>\n",
              "      <td>3.344094</td>\n",
              "      <td>2.016620</td>\n",
              "      <td>0.101610</td>\n",
              "      <td>0.689412</td>\n",
              "      <td>0.025504</td>\n",
              "      <td>0.228070</td>\n",
              "      <td>0.700630</td>\n",
              "      <td>1.592608</td>\n",
              "      <td>1.089594</td>\n",
              "      <td>338.972888</td>\n",
              "      <td>0.703873</td>\n",
              "      <td>3.698234</td>\n",
              "      <td>11.378365</td>\n",
              "      <td>0.445022</td>\n",
              "      <td>8501.609009</td>\n",
              "      <td>14.849390</td>\n",
              "      <td>0.900211</td>\n",
              "      <td>0.587780</td>\n",
              "      <td>9.253785</td>\n",
              "      <td>0.892563</td>\n",
              "      <td>0.226589</td>\n",
              "      <td>0.646306</td>\n",
              "      <td>5.647368</td>\n",
              "      <td>7.940179</td>\n",
              "    </tr>\n",
              "    <tr>\n",
              "      <th>min</th>\n",
              "      <td>-0.069273</td>\n",
              "      <td>-17.000000</td>\n",
              "      <td>-7.895580</td>\n",
              "      <td>-1.475560</td>\n",
              "      <td>-7589.280000</td>\n",
              "      <td>-3.291050</td>\n",
              "      <td>-40.967200</td>\n",
              "      <td>-4.143080</td>\n",
              "      <td>-502.813000</td>\n",
              "      <td>0.934037</td>\n",
              "      <td>-10.261200</td>\n",
              "      <td>-1.858720</td>\n",
              "      <td>108.086000</td>\n",
              "      <td>-2.115510</td>\n",
              "      <td>-8.648960</td>\n",
              "      <td>-1.805330</td>\n",
              "      <td>-1.173084e+06</td>\n",
              "      <td>-0.341300</td>\n",
              "      <td>-2.777610</td>\n",
              "      <td>-3.693950</td>\n",
              "      <td>-0.029620</td>\n",
              "      <td>-0.732186</td>\n",
              "      <td>-10875.700000</td>\n",
              "      <td>0.095849</td>\n",
              "      <td>-1.771980</td>\n",
              "      <td>-2.759340</td>\n",
              "      <td>100.861000</td>\n",
              "      <td>-3391.000000</td>\n",
              "      <td>-4.283380</td>\n",
              "      <td>0.404425</td>\n",
              "      <td>0.842903</td>\n",
              "      <td>-0.883213</td>\n",
              "      <td>-1.824650</td>\n",
              "      <td>-0.431699</td>\n",
              "      <td>105.359000</td>\n",
              "      <td>-29.524300</td>\n",
              "      <td>-2.776090</td>\n",
              "      <td>-13.697300</td>\n",
              "      <td>-5.747540</td>\n",
              "      <td>-1.496630</td>\n",
              "      <td>...</td>\n",
              "      <td>-16.770000</td>\n",
              "      <td>-1.608820</td>\n",
              "      <td>-0.050361</td>\n",
              "      <td>0.791808</td>\n",
              "      <td>-0.025645</td>\n",
              "      <td>-0.059566</td>\n",
              "      <td>-1.625720</td>\n",
              "      <td>-26.624000</td>\n",
              "      <td>-16.388300</td>\n",
              "      <td>-10.036200</td>\n",
              "      <td>-0.294238</td>\n",
              "      <td>-21.852000</td>\n",
              "      <td>-1.267630</td>\n",
              "      <td>-1.041160</td>\n",
              "      <td>-11332.100000</td>\n",
              "      <td>-2.753550</td>\n",
              "      <td>-43.048000</td>\n",
              "      <td>1.143390</td>\n",
              "      <td>0.902514</td>\n",
              "      <td>-0.554585</td>\n",
              "      <td>-0.122903</td>\n",
              "      <td>-0.994638</td>\n",
              "      <td>-1.540880</td>\n",
              "      <td>0.456437</td>\n",
              "      <td>-3.751090</td>\n",
              "      <td>-26.000000</td>\n",
              "      <td>-1.247060</td>\n",
              "      <td>-0.031391</td>\n",
              "      <td>-9.396700</td>\n",
              "      <td>-0.379189</td>\n",
              "      <td>-12695.700000</td>\n",
              "      <td>-4.059170</td>\n",
              "      <td>0.057800</td>\n",
              "      <td>-1.998800</td>\n",
              "      <td>-24.686300</td>\n",
              "      <td>-1.131980</td>\n",
              "      <td>0.005249</td>\n",
              "      <td>-0.646967</td>\n",
              "      <td>-0.842397</td>\n",
              "      <td>0.000000</td>\n",
              "    </tr>\n",
              "    <tr>\n",
              "      <th>25%</th>\n",
              "      <td>0.251287</td>\n",
              "      <td>18.000000</td>\n",
              "      <td>-0.611172</td>\n",
              "      <td>-0.719418</td>\n",
              "      <td>163.864750</td>\n",
              "      <td>4.110127</td>\n",
              "      <td>27.894900</td>\n",
              "      <td>-0.026245</td>\n",
              "      <td>-17.392025</td>\n",
              "      <td>1.132640</td>\n",
              "      <td>-1.246857</td>\n",
              "      <td>-0.775796</td>\n",
              "      <td>124.486000</td>\n",
              "      <td>3.917245</td>\n",
              "      <td>-0.552543</td>\n",
              "      <td>0.331163</td>\n",
              "      <td>9.710185e+05</td>\n",
              "      <td>-0.047658</td>\n",
              "      <td>-0.543708</td>\n",
              "      <td>-0.487868</td>\n",
              "      <td>0.041971</td>\n",
              "      <td>6.020198</td>\n",
              "      <td>162.032000</td>\n",
              "      <td>4.724955</td>\n",
              "      <td>-1.015360</td>\n",
              "      <td>3.823762</td>\n",
              "      <td>126.059000</td>\n",
              "      <td>10508.000000</td>\n",
              "      <td>-0.250766</td>\n",
              "      <td>4.637455</td>\n",
              "      <td>1.132730</td>\n",
              "      <td>5.088157</td>\n",
              "      <td>-0.726416</td>\n",
              "      <td>0.802675</td>\n",
              "      <td>124.930000</td>\n",
              "      <td>23.736975</td>\n",
              "      <td>3.811445</td>\n",
              "      <td>-0.467775</td>\n",
              "      <td>-0.515376</td>\n",
              "      <td>0.744616</td>\n",
              "      <td>...</td>\n",
              "      <td>43.430950</td>\n",
              "      <td>2.633565</td>\n",
              "      <td>0.144925</td>\n",
              "      <td>1.146130</td>\n",
              "      <td>0.346636</td>\n",
              "      <td>0.150155</td>\n",
              "      <td>0.818689</td>\n",
              "      <td>-4.487253</td>\n",
              "      <td>0.640476</td>\n",
              "      <td>43.169300</td>\n",
              "      <td>-0.040774</td>\n",
              "      <td>44.535525</td>\n",
              "      <td>1.753125</td>\n",
              "      <td>2.249180</td>\n",
              "      <td>171.519750</td>\n",
              "      <td>-0.896194</td>\n",
              "      <td>-0.762596</td>\n",
              "      <td>5.135180</td>\n",
              "      <td>1.138640</td>\n",
              "      <td>1.420057</td>\n",
              "      <td>0.000210</td>\n",
              "      <td>-0.632137</td>\n",
              "      <td>-0.198544</td>\n",
              "      <td>2.688877</td>\n",
              "      <td>4.069505</td>\n",
              "      <td>30.000000</td>\n",
              "      <td>-0.204390</td>\n",
              "      <td>4.359565</td>\n",
              "      <td>-0.019056</td>\n",
              "      <td>0.280511</td>\n",
              "      <td>73.203100</td>\n",
              "      <td>11.525450</td>\n",
              "      <td>1.471650</td>\n",
              "      <td>-0.408975</td>\n",
              "      <td>-4.004925</td>\n",
              "      <td>1.906718</td>\n",
              "      <td>0.359646</td>\n",
              "      <td>1.215810</td>\n",
              "      <td>3.732800</td>\n",
              "      <td>1.000000</td>\n",
              "    </tr>\n",
              "    <tr>\n",
              "      <th>50%</th>\n",
              "      <td>0.514962</td>\n",
              "      <td>41.000000</td>\n",
              "      <td>0.253815</td>\n",
              "      <td>0.004099</td>\n",
              "      <td>943.000500</td>\n",
              "      <td>7.472445</td>\n",
              "      <td>91.005250</td>\n",
              "      <td>0.619862</td>\n",
              "      <td>8.714945</td>\n",
              "      <td>1.170370</td>\n",
              "      <td>0.098015</td>\n",
              "      <td>0.169345</td>\n",
              "      <td>130.341000</td>\n",
              "      <td>7.145230</td>\n",
              "      <td>1.132570</td>\n",
              "      <td>0.602811</td>\n",
              "      <td>6.463494e+06</td>\n",
              "      <td>0.001599</td>\n",
              "      <td>0.167400</td>\n",
              "      <td>0.171684</td>\n",
              "      <td>0.173137</td>\n",
              "      <td>8.881610</td>\n",
              "      <td>907.796000</td>\n",
              "      <td>6.872090</td>\n",
              "      <td>-0.762852</td>\n",
              "      <td>5.822090</td>\n",
              "      <td>133.219000</td>\n",
              "      <td>74846.000000</td>\n",
              "      <td>2.216675</td>\n",
              "      <td>6.695075</td>\n",
              "      <td>1.175385</td>\n",
              "      <td>6.377255</td>\n",
              "      <td>-0.003925</td>\n",
              "      <td>1.314790</td>\n",
              "      <td>132.299000</td>\n",
              "      <td>88.821000</td>\n",
              "      <td>5.956900</td>\n",
              "      <td>0.614356</td>\n",
              "      <td>1.102440</td>\n",
              "      <td>0.926665</td>\n",
              "      <td>...</td>\n",
              "      <td>66.581050</td>\n",
              "      <td>4.449225</td>\n",
              "      <td>0.232123</td>\n",
              "      <td>1.173080</td>\n",
              "      <td>0.506646</td>\n",
              "      <td>0.231155</td>\n",
              "      <td>1.002550</td>\n",
              "      <td>0.817414</td>\n",
              "      <td>1.221530</td>\n",
              "      <td>68.552400</td>\n",
              "      <td>0.007164</td>\n",
              "      <td>64.526250</td>\n",
              "      <td>2.183100</td>\n",
              "      <td>3.434990</td>\n",
              "      <td>966.689000</td>\n",
              "      <td>-0.087620</td>\n",
              "      <td>1.115740</td>\n",
              "      <td>6.164425</td>\n",
              "      <td>1.162540</td>\n",
              "      <td>1.729035</td>\n",
              "      <td>0.007968</td>\n",
              "      <td>-0.458585</td>\n",
              "      <td>0.087815</td>\n",
              "      <td>3.591190</td>\n",
              "      <td>4.347280</td>\n",
              "      <td>83.000000</td>\n",
              "      <td>0.106079</td>\n",
              "      <td>6.723000</td>\n",
              "      <td>2.707840</td>\n",
              "      <td>0.480568</td>\n",
              "      <td>1060.025000</td>\n",
              "      <td>19.993200</td>\n",
              "      <td>1.660830</td>\n",
              "      <td>0.215710</td>\n",
              "      <td>0.759942</td>\n",
              "      <td>2.340430</td>\n",
              "      <td>0.531347</td>\n",
              "      <td>1.451285</td>\n",
              "      <td>7.182205</td>\n",
              "      <td>4.000000</td>\n",
              "    </tr>\n",
              "    <tr>\n",
              "      <th>75%</th>\n",
              "      <td>0.777323</td>\n",
              "      <td>75.000000</td>\n",
              "      <td>0.759249</td>\n",
              "      <td>0.765456</td>\n",
              "      <td>4115.355000</td>\n",
              "      <td>11.030950</td>\n",
              "      <td>240.843750</td>\n",
              "      <td>0.933855</td>\n",
              "      <td>55.407625</td>\n",
              "      <td>1.218880</td>\n",
              "      <td>1.465193</td>\n",
              "      <td>0.908570</td>\n",
              "      <td>150.789000</td>\n",
              "      <td>10.886200</td>\n",
              "      <td>1.459792</td>\n",
              "      <td>1.009152</td>\n",
              "      <td>1.527793e+07</td>\n",
              "      <td>0.061017</td>\n",
              "      <td>0.588710</td>\n",
              "      <td>0.603872</td>\n",
              "      <td>0.559843</td>\n",
              "      <td>12.111975</td>\n",
              "      <td>3975.502500</td>\n",
              "      <td>9.353863</td>\n",
              "      <td>0.009844</td>\n",
              "      <td>7.836318</td>\n",
              "      <td>151.901000</td>\n",
              "      <td>80250.000000</td>\n",
              "      <td>8.684090</td>\n",
              "      <td>9.038390</td>\n",
              "      <td>1.232080</td>\n",
              "      <td>7.644790</td>\n",
              "      <td>0.684152</td>\n",
              "      <td>2.091595</td>\n",
              "      <td>150.526000</td>\n",
              "      <td>260.465500</td>\n",
              "      <td>8.151450</td>\n",
              "      <td>1.127412</td>\n",
              "      <td>1.282580</td>\n",
              "      <td>1.102470</td>\n",
              "      <td>...</td>\n",
              "      <td>90.640000</td>\n",
              "      <td>6.198120</td>\n",
              "      <td>0.284486</td>\n",
              "      <td>1.217000</td>\n",
              "      <td>0.624844</td>\n",
              "      <td>0.282495</td>\n",
              "      <td>1.197200</td>\n",
              "      <td>6.703917</td>\n",
              "      <td>1.564370</td>\n",
              "      <td>94.126875</td>\n",
              "      <td>0.057054</td>\n",
              "      <td>83.893250</td>\n",
              "      <td>2.699022</td>\n",
              "      <td>4.538450</td>\n",
              "      <td>4571.855000</td>\n",
              "      <td>0.551914</td>\n",
              "      <td>1.541140</td>\n",
              "      <td>7.430660</td>\n",
              "      <td>1.201270</td>\n",
              "      <td>2.464610</td>\n",
              "      <td>0.020186</td>\n",
              "      <td>-0.280071</td>\n",
              "      <td>0.512600</td>\n",
              "      <td>5.057910</td>\n",
              "      <td>4.809580</td>\n",
              "      <td>397.000000</td>\n",
              "      <td>0.549940</td>\n",
              "      <td>9.314235</td>\n",
              "      <td>11.563850</td>\n",
              "      <td>0.766532</td>\n",
              "      <td>5572.982500</td>\n",
              "      <td>32.271625</td>\n",
              "      <td>2.320085</td>\n",
              "      <td>0.503134</td>\n",
              "      <td>6.202502</td>\n",
              "      <td>2.910020</td>\n",
              "      <td>0.709807</td>\n",
              "      <td>1.901633</td>\n",
              "      <td>10.998550</td>\n",
              "      <td>10.000000</td>\n",
              "    </tr>\n",
              "    <tr>\n",
              "      <th>max</th>\n",
              "      <td>1.072070</td>\n",
              "      <td>273.000000</td>\n",
              "      <td>9.768590</td>\n",
              "      <td>1.680190</td>\n",
              "      <td>37847.500000</td>\n",
              "      <td>35.078000</td>\n",
              "      <td>947.143000</td>\n",
              "      <td>4.010380</td>\n",
              "      <td>465.956000</td>\n",
              "      <td>1.712450</td>\n",
              "      <td>8.570400</td>\n",
              "      <td>2.181420</td>\n",
              "      <td>173.854000</td>\n",
              "      <td>35.009000</td>\n",
              "      <td>9.727590</td>\n",
              "      <td>4.302900</td>\n",
              "      <td>3.346016e+07</td>\n",
              "      <td>0.494495</td>\n",
              "      <td>3.242530</td>\n",
              "      <td>4.581250</td>\n",
              "      <td>1.151270</td>\n",
              "      <td>29.408100</td>\n",
              "      <td>45432.600000</td>\n",
              "      <td>25.713500</td>\n",
              "      <td>1.795590</td>\n",
              "      <td>23.698200</td>\n",
              "      <td>173.770000</td>\n",
              "      <td>92186.000000</td>\n",
              "      <td>39.953400</td>\n",
              "      <td>22.710900</td>\n",
              "      <td>1.913310</td>\n",
              "      <td>18.335500</td>\n",
              "      <td>1.691910</td>\n",
              "      <td>7.182940</td>\n",
              "      <td>173.425000</td>\n",
              "      <td>1043.310000</td>\n",
              "      <td>24.736100</td>\n",
              "      <td>6.144190</td>\n",
              "      <td>6.944780</td>\n",
              "      <td>2.349790</td>\n",
              "      <td>...</td>\n",
              "      <td>194.855000</td>\n",
              "      <td>18.363300</td>\n",
              "      <td>0.523577</td>\n",
              "      <td>1.804290</td>\n",
              "      <td>1.076130</td>\n",
              "      <td>0.529740</td>\n",
              "      <td>2.638920</td>\n",
              "      <td>47.418600</td>\n",
              "      <td>18.370400</td>\n",
              "      <td>196.087000</td>\n",
              "      <td>0.441102</td>\n",
              "      <td>169.846000</td>\n",
              "      <td>4.366360</td>\n",
              "      <td>12.105700</td>\n",
              "      <td>48334.400000</td>\n",
              "      <td>2.854910</td>\n",
              "      <td>51.090000</td>\n",
              "      <td>15.919200</td>\n",
              "      <td>1.882540</td>\n",
              "      <td>5.616720</td>\n",
              "      <td>0.249145</td>\n",
              "      <td>0.100138</td>\n",
              "      <td>4.505350</td>\n",
              "      <td>8.507750</td>\n",
              "      <td>10.413600</td>\n",
              "      <td>1121.000000</td>\n",
              "      <td>3.954450</td>\n",
              "      <td>24.213500</td>\n",
              "      <td>73.116100</td>\n",
              "      <td>3.422660</td>\n",
              "      <td>54334.600000</td>\n",
              "      <td>79.912400</td>\n",
              "      <td>5.403020</td>\n",
              "      <td>1.944190</td>\n",
              "      <td>42.890400</td>\n",
              "      <td>5.576040</td>\n",
              "      <td>1.105400</td>\n",
              "      <td>4.492620</td>\n",
              "      <td>34.019200</td>\n",
              "      <td>42.000000</td>\n",
              "    </tr>\n",
              "  </tbody>\n",
              "</table>\n",
              "<p>8 rows × 101 columns</p>\n",
              "</div>"
            ],
            "text/plain": [
              "                  f0             f1  ...            f99           loss\n",
              "count  250000.000000  250000.000000  ...  250000.000000  250000.000000\n",
              "mean        0.511213      51.378476  ...       8.048805       6.813920\n",
              "std         0.307884      42.396636  ...       5.647368       7.940179\n",
              "min        -0.069273     -17.000000  ...      -0.842397       0.000000\n",
              "25%         0.251287      18.000000  ...       3.732800       1.000000\n",
              "50%         0.514962      41.000000  ...       7.182205       4.000000\n",
              "75%         0.777323      75.000000  ...      10.998550      10.000000\n",
              "max         1.072070     273.000000  ...      34.019200      42.000000\n",
              "\n",
              "[8 rows x 101 columns]"
            ]
          },
          "metadata": {
            "tags": []
          },
          "execution_count": 5
        }
      ]
    },
    {
      "cell_type": "markdown",
      "metadata": {
        "id": "CvQG5zhAtKNI"
      },
      "source": [
        "Huge data set, thus a simple describe is not going to captute the full picture, so I'll rather do a Box plot, and see how the data looks. \n",
        "* P.S - Any other better method for suggestion"
      ]
    },
    {
      "cell_type": "code",
      "metadata": {
        "colab": {
          "base_uri": "https://localhost:8080/",
          "height": 462
        },
        "id": "K5fFVVZ9tYqV",
        "outputId": "8490a323-fe42-4f70-b58e-41038ec60fac"
      },
      "source": [
        "box = train.boxplot(figsize = (30,8), rot = 90 )"
      ],
      "execution_count": null,
      "outputs": [
        {
          "output_type": "display_data",
          "data": {
            "image/png": "[encoded data removed]",
            "text/plain": [
              "<Figure size 2160x576 with 1 Axes>"
            ]
          },
          "metadata": {
            "tags": []
          }
        }
      ]
    },
    {
      "cell_type": "markdown",
      "metadata": {
        "id": "Z-LYbveQuYYC"
      },
      "source": [
        "OOPs seems like box plot also gave a pretty weird outcome, any suggestion is welcome\n",
        "* Conclusion that can be drawn is that, \n",
        "  * feature f60 has pretty different scale compared to the rest. \n",
        "  * I need to perform some scaling to make the visualisation sensible, but for that i need to know the presence of outliers in the data. \n",
        "* Something for later but, i want to see how data model is affected w and w/o any scaling"
      ]
    },
    {
      "cell_type": "code",
      "metadata": {
        "colab": {
          "base_uri": "https://localhost:8080/",
          "height": 201
        },
        "id": "BPZQcKQ7mvKe",
        "outputId": "b0823ab6-3a88-48a4-d4c3-f95636973897"
      },
      "source": [
        "# converting the describe table into a spread dataframe \n",
        "spread = pd.DataFrame(train.describe().T)\n",
        "\n",
        "# Calculating the IQR for each feature column\n",
        "IQR = spread['75%'] - spread['25%']\n",
        "spread['outliers'] = ( (spread['max'] > (spread['75%'] + 1.5 * IQR)) \n",
        "                         | (spread['min'] < (spread['25%'] - 1.5 * IQR)) )\n",
        "\n",
        "# Outliers count \n",
        "spread['outliers_count'] = ((train < (spread['25%'] - 1.5 * IQR)) \n",
        "                              | (train > (spread['75%'] + 1.5 * IQR))).sum()\n",
        "\n",
        "spread.head()"
      ],
      "execution_count": null,
      "outputs": [
        {
          "output_type": "execute_result",
          "data": {
            "text/html": [
              "<div>\n",
              "<style scoped>\n",
              "    .dataframe tbody tr th:only-of-type {\n",
              "        vertical-align: middle;\n",
              "    }\n",
              "\n",
              "    .dataframe tbody tr th {\n",
              "        vertical-align: top;\n",
              "    }\n",
              "\n",
              "    .dataframe thead th {\n",
              "        text-align: right;\n",
              "    }\n",
              "</style>\n",
              "<table border=\"1\" class=\"dataframe\">\n",
              "  <thead>\n",
              "    <tr style=\"text-align: right;\">\n",
              "      <th></th>\n",
              "      <th>count</th>\n",
              "      <th>mean</th>\n",
              "      <th>std</th>\n",
              "      <th>min</th>\n",
              "      <th>25%</th>\n",
              "      <th>50%</th>\n",
              "      <th>75%</th>\n",
              "      <th>max</th>\n",
              "      <th>outliers</th>\n",
              "      <th>outliers_count</th>\n",
              "    </tr>\n",
              "  </thead>\n",
              "  <tbody>\n",
              "    <tr>\n",
              "      <th>f0</th>\n",
              "      <td>250000.0</td>\n",
              "      <td>0.511213</td>\n",
              "      <td>0.307884</td>\n",
              "      <td>-0.069273</td>\n",
              "      <td>0.251287</td>\n",
              "      <td>0.514962</td>\n",
              "      <td>0.777323</td>\n",
              "      <td>1.07207</td>\n",
              "      <td>False</td>\n",
              "      <td>0</td>\n",
              "    </tr>\n",
              "    <tr>\n",
              "      <th>f1</th>\n",
              "      <td>250000.0</td>\n",
              "      <td>51.378476</td>\n",
              "      <td>42.396636</td>\n",
              "      <td>-17.000000</td>\n",
              "      <td>18.000000</td>\n",
              "      <td>41.000000</td>\n",
              "      <td>75.000000</td>\n",
              "      <td>273.00000</td>\n",
              "      <td>True</td>\n",
              "      <td>6016</td>\n",
              "    </tr>\n",
              "    <tr>\n",
              "      <th>f2</th>\n",
              "      <td>250000.0</td>\n",
              "      <td>0.107155</td>\n",
              "      <td>1.322200</td>\n",
              "      <td>-7.895580</td>\n",
              "      <td>-0.611172</td>\n",
              "      <td>0.253815</td>\n",
              "      <td>0.759249</td>\n",
              "      <td>9.76859</td>\n",
              "      <td>True</td>\n",
              "      <td>13479</td>\n",
              "    </tr>\n",
              "    <tr>\n",
              "      <th>f3</th>\n",
              "      <td>250000.0</td>\n",
              "      <td>0.050010</td>\n",
              "      <td>0.792368</td>\n",
              "      <td>-1.475560</td>\n",
              "      <td>-0.719418</td>\n",
              "      <td>0.004099</td>\n",
              "      <td>0.765456</td>\n",
              "      <td>1.68019</td>\n",
              "      <td>False</td>\n",
              "      <td>0</td>\n",
              "    </tr>\n",
              "    <tr>\n",
              "      <th>f4</th>\n",
              "      <td>250000.0</td>\n",
              "      <td>3595.133426</td>\n",
              "      <td>6072.401061</td>\n",
              "      <td>-7589.280000</td>\n",
              "      <td>163.864750</td>\n",
              "      <td>943.000500</td>\n",
              "      <td>4115.355000</td>\n",
              "      <td>37847.50000</td>\n",
              "      <td>True</td>\n",
              "      <td>29188</td>\n",
              "    </tr>\n",
              "  </tbody>\n",
              "</table>\n",
              "</div>"
            ],
            "text/plain": [
              "       count         mean          std  ...          max  outliers  outliers_count\n",
              "f0  250000.0     0.511213     0.307884  ...      1.07207     False               0\n",
              "f1  250000.0    51.378476    42.396636  ...    273.00000      True            6016\n",
              "f2  250000.0     0.107155     1.322200  ...      9.76859      True           13479\n",
              "f3  250000.0     0.050010     0.792368  ...      1.68019     False               0\n",
              "f4  250000.0  3595.133426  6072.401061  ...  37847.50000      True           29188\n",
              "\n",
              "[5 rows x 10 columns]"
            ]
          },
          "metadata": {
            "tags": []
          },
          "execution_count": 7
        }
      ]
    },
    {
      "cell_type": "code",
      "metadata": {
        "colab": {
          "base_uri": "https://localhost:8080/",
          "height": 256
        },
        "id": "gJ0B_k0-p_nS",
        "outputId": "deb081a2-572e-4cce-a177-66d81cfcb2e0"
      },
      "source": [
        "# Visualising the outliers\n",
        "plt.figure(figsize=(5,3))\n",
        "ax = sns.countplot( x=\"outliers\", data=spread, palette=\"Set2\")\n",
        "ax.set_title(\"Feature with Outliers\")"
      ],
      "execution_count": null,
      "outputs": [
        {
          "output_type": "execute_result",
          "data": {
            "text/plain": [
              "Text(0.5, 1.0, 'Feature with Outliers')"
            ]
          },
          "metadata": {
            "tags": []
          },
          "execution_count": 8
        },
        {
          "output_type": "display_data",
          "data": {
            "image/png": "[encoded data removed]",
            "text/plain": [
              "<Figure size 360x216 with 1 Axes>"
            ]
          },
          "metadata": {
            "tags": []
          }
        }
      ]
    },
    {
      "cell_type": "markdown",
      "metadata": {
        "id": "QGokCu0QGtZa"
      },
      "source": [
        "Well there are multiple features that have outliers, so may be i'll have to tackle the outliers, maybe with min-max scaler or robust scaler."
      ]
    },
    {
      "cell_type": "code",
      "metadata": {
        "colab": {
          "base_uri": "https://localhost:8080/"
        },
        "id": "arBywF3lH0Ks",
        "outputId": "81f7bc00-8702-4975-eb56-3cb0f4eef4d6"
      },
      "source": [
        "# Let's check for Null values \n",
        "print('Total Null values:', train.isnull().sum().sum())"
      ],
      "execution_count": null,
      "outputs": [
        {
          "output_type": "stream",
          "text": [
            "Total Null values: 0\n"
          ],
          "name": "stdout"
        }
      ]
    },
    {
      "cell_type": "markdown",
      "metadata": {
        "id": "GHvSUBPTIVZ6"
      },
      "source": [
        "luckily no null values "
      ]
    },
    {
      "cell_type": "markdown",
      "metadata": {
        "id": "PCQG7RV4JKJ7"
      },
      "source": [
        "# Visual Information with graphs "
      ]
    },
    {
      "cell_type": "markdown",
      "metadata": {
        "id": "g-IAOAHmCrDg"
      },
      "source": [
        "## Feature distribution"
      ]
    },
    {
      "cell_type": "markdown",
      "metadata": {
        "id": "UBH5G0dNz2xl"
      },
      "source": [
        "\n",
        "\n",
        "References for the next code cell\n",
        "* Main code https://www.kaggle.com/c/tabular-playground-series-aug-2021/code \n",
        "  * axis.flat - https://towardsdatascience.com/everything-about-plotting-in-python-c12ccdc359bc \n",
        "  * More clarification for plotting https://towardsdatascience.com/what-are-the-plt-and-ax-in-matplotlib-exactly-d2cf4bf164a9 , https://towardsdatascience.com/a-step-by-step-guide-for-creating-advanced-python-data-visualizations-with-seaborn-matplotlib-1579d6a1a7d0 \n",
        "  * Enumerate - https://www.geeksforgeeks.org/enumerate-in-python/ \n",
        "  * f-string - for f'f{idx}' : https://www.geeksforgeeks.org/formatted-string-literals-f-strings-python/, thus f'f{idx}' will give f0, f1..f99, since wiht Enumerate the axes gets an index to each value/feature which is used to get the number of the features\n",
        "  * Spacing - https://www.geeksforgeeks.org/how-to-set-the-spacing-between-subplots-in-matplotlib-in-python/\n"
      ]
    },
    {
      "cell_type": "code",
      "metadata": {
        "id": "H6Mq5xX2O1FZ"
      },
      "source": [
        "fig, axes = plt.subplots(10,10,figsize=(15,12))\n",
        "axes = axes.flatten()\n",
        "\n",
        "for idx, ax in enumerate(axes):\n",
        "    sns.kdeplot(data=train, x=f'f{idx}', \n",
        "                fill=True, \n",
        "                ax=ax)\n",
        "    # sns.kdeplot(data=test, x=f'f{idx}', \n",
        "                # fill=True, \n",
        "                # ax=ax)\n",
        "    ax.set_xticks([])\n",
        "    # ax.set_yticks([])\n",
        "    ax.set_xlabel('')\n",
        "    ax.set_ylabel('')\n",
        "    ax.spines['left'].set_visible(False)\n",
        "    ax.set_title(f'f{idx}', loc='right', weight='bold', fontsize=10)\n",
        "\n",
        "# fig.supxlabel('Average by class (by feature)', ha='center', fontweight='bold')\n",
        "# wont work because of the matplotlip version \n",
        "# plt.subplot_tool()\n",
        "fig.tight_layout()\n",
        "plt.show()\n",
        "    "
      ],
      "execution_count": null,
      "outputs": []
    },
    {
      "cell_type": "markdown",
      "metadata": {
        "id": "JEyIbU6Gh4EU"
      },
      "source": [
        "Question::: Why is loss not being plotted???\n",
        "is it because of the net subplot isze is for 100 plots ??"
      ]
    },
    {
      "cell_type": "markdown",
      "metadata": {
        "id": "D_4NKj4F3rq0"
      },
      "source": [
        "### Inference\n",
        "Thanks to the huge feature numbers, visualising them together is a daunting task. Anyways, couple of thing:\n",
        "  * Aligning with the outliers calculation, the good number of data is out of normal, with hint of skewness\n",
        "  * I plotted the data wiht their y axis, to get a better understanding of the scaling, and yeah, scaling has to be done. Well as mentioned previously I'll perform std scalar and robust scalar to see how they effect the model. \n"
      ]
    },
    {
      "cell_type": "markdown",
      "metadata": {
        "id": "V4qohIUnCzVZ"
      },
      "source": [
        "##Rescale the data and plot the same graph to see any changes"
      ]
    },
    {
      "cell_type": "code",
      "metadata": {
        "id": "90AgqxVmC76E"
      },
      "source": [
        "# Robust Scaling\n",
        "from sklearn.preprocessing import RobustScaler\n",
        "\n",
        "scaler = RobustScaler() # class object\n",
        "rscale_train = pd.DataFrame(scaler.fit_transform(train), columns = train.columns)\n",
        "\n",
        "\n",
        "# scaled data plot \n",
        "\n",
        "fig, axes = plt.subplots(10,10,figsize=(15,12))\n",
        "axes = axes.flatten()\n",
        "\n",
        "for idx, ax in enumerate(axes):\n",
        "    sns.kdeplot(data=rscale_train, x=f'f{idx}', \n",
        "                fill=True, \n",
        "                ax=ax)\n",
        "    # sns.kdeplot(data=test, x=f'f{idx}', \n",
        "                # fill=True, \n",
        "                # ax=ax)\n",
        "    ax.set_xticks([])\n",
        "    # ax.set_yticks([])\n",
        "    ax.set_xlabel('')\n",
        "    ax.set_ylabel('')\n",
        "    ax.spines['left'].set_visible(False)\n",
        "    ax.set_title(f'f{idx}', loc='right', weight='bold', fontsize=10)\n",
        "\n",
        "# fig.supxlabel('Average by class (by feature)', ha='center', fontweight='bold')\n",
        "# wont work because of the matplotlip version \n",
        "# plt.subplot_tool()\n",
        "# plt.title(\"Robust scale data plot\")\n",
        "fig.suptitle('Robust scale data plot')\n",
        "fig.tight_layout()\n",
        "plt.show()"
      ],
      "execution_count": null,
      "outputs": []
    },
    {
      "cell_type": "code",
      "metadata": {
        "colab": {
          "base_uri": "https://localhost:8080/",
          "height": 871
        },
        "id": "6V0lSkrziY1w",
        "outputId": "d7e0f497-8eef-49c9-ec0e-e8ff5d33e3b9"
      },
      "source": [
        "# Standard scaling\n",
        "from sklearn.preprocessing import StandardScaler\n",
        "\n",
        "ss = StandardScaler()\n",
        "features = [f'f{i}' for i in range(100)] # feature name list \n",
        "s_scale_train = pd.DataFrame(ss.fit_transform(train.drop('loss', axis = 1)), columns = train.columns[:-1])\n",
        "# test[features] = ss.transform(test[features])\n",
        "\n",
        "# scaled data plot \n",
        "\n",
        "fig, axes = plt.subplots(10,10,figsize=(15,12))\n",
        "axes = axes.flatten()\n",
        "\n",
        "for idx, ax in enumerate(axes):\n",
        "    sns.kdeplot(data=s_scale_train, x=f'f{idx}', \n",
        "                fill=True, \n",
        "                ax=ax)\n",
        "    # sns.kdeplot(data=test, x=f'f{idx}', \n",
        "                # fill=True, \n",
        "                # ax=ax)\n",
        "    ax.set_xticks([])\n",
        "    # ax.set_yticks([])\n",
        "    ax.set_xlabel('')\n",
        "    ax.set_ylabel('')\n",
        "    ax.spines['left'].set_visible(False)\n",
        "    ax.set_title(f'f{idx}', loc='right', weight='bold', fontsize=10)\n",
        "\n",
        "# fig.supxlabel('Average by class (by feature)', ha='center', fontweight='bold')\n",
        "# wont work because of the matplotlip version \n",
        "# plt.subplot_tool()\n",
        "# plt.title(\"Robust scale data plot\")\n",
        "fig.suptitle('standard scale data plot')\n",
        "fig.tight_layout()\n",
        "plt.show()"
      ],
      "execution_count": null,
      "outputs": [
        {
          "output_type": "display_data",
          "data": {
            "image/png": "[encoded data removed]",
            "text/plain": [
              "<Figure size 1080x864 with 100 Axes>"
            ]
          },
          "metadata": {
            "tags": []
          }
        }
      ]
    },
    {
      "cell_type": "markdown",
      "metadata": {
        "id": "UJK6ZyYvo0Td"
      },
      "source": [
        "shape of the data doesnot changes after transformation"
      ]
    },
    {
      "cell_type": "markdown",
      "metadata": {
        "id": "ugwDk48PCBwh"
      },
      "source": [
        "## Target distribution"
      ]
    },
    {
      "cell_type": "markdown",
      "metadata": {
        "id": "5bwIwPS5RcYc"
      },
      "source": [
        "Lets check out the traget "
      ]
    },
    {
      "cell_type": "markdown",
      "metadata": {
        "id": "dhdEsuS1pF1X"
      },
      "source": [
        "with scalar and robust scaled data i'll try multivariate regression"
      ]
    },
    {
      "cell_type": "markdown",
      "metadata": {
        "id": "9B2WVg4b49xx"
      },
      "source": [
        "# Correlation of features"
      ]
    },
    {
      "cell_type": "code",
      "metadata": {
        "id": "4Jw2-poOyla6"
      },
      "source": [
        "# pair plot \n",
        "# sns.pairplot(train)"
      ],
      "execution_count": null,
      "outputs": []
    },
    {
      "cell_type": "code",
      "metadata": {
        "colab": {
          "base_uri": "https://localhost:8080/",
          "height": 965
        },
        "id": "gzOkTjR_5Mw7",
        "outputId": "dc850a69-f085-472f-cbec-f45558dd0c5b"
      },
      "source": [
        "# Correlation with pearson corr \n",
        "\n",
        "plt.figure(figsize=(20,20))\n",
        "sns.heatmap(train.corr(), \n",
        "            annot=False, cmap=\"vlag\",\n",
        "            center = 0, linewidths=0.01,\n",
        "            cbar_kws={\"shrink\": .5}, square = True, vmin=-0.1, vmax=0.1) "
      ],
      "execution_count": null,
      "outputs": [
        {
          "output_type": "execute_result",
          "data": {
            "text/plain": [
              "<matplotlib.axes._subplots.AxesSubplot at 0x7f46eb41ddd0>"
            ]
          },
          "metadata": {
            "tags": []
          },
          "execution_count": 9
        },
        {
          "output_type": "display_data",
          "data": {
            "image/png": "[encoded data removed]",
            "text/plain": [
              "<Figure size 1440x1440 with 2 Axes>"
            ]
          },
          "metadata": {
            "tags": []
          }
        }
      ]
    },
    {
      "cell_type": "markdown",
      "metadata": {
        "id": "OPor17ZM7DcV"
      },
      "source": [
        "Inference\n",
        "* Well the features are too less correlated, both positively and negatively with each other and the target, also the festures are lot less normally distributed, so I'll spearman, lets see if i get some changes."
      ]
    },
    {
      "cell_type": "code",
      "metadata": {
        "colab": {
          "base_uri": "https://localhost:8080/",
          "height": 965
        },
        "id": "JJtiMAPhu_wS",
        "outputId": "5d7b0384-c89e-48e1-a78a-5cecad5767fb"
      },
      "source": [
        "# Correlation with spearman corr\n",
        "plt.figure(figsize=(20,20))\n",
        "sns.heatmap(train.corr(method = 'spearman'), \n",
        "            annot=False, cmap=\"vlag\",\n",
        "            center = 0, linewidths=0.01,\n",
        "            cbar_kws={\"shrink\": .5}, square = True, vmin=-0.1, vmax=0.1) "
      ],
      "execution_count": null,
      "outputs": [
        {
          "output_type": "execute_result",
          "data": {
            "text/plain": [
              "<matplotlib.axes._subplots.AxesSubplot at 0x7f46ed3bce50>"
            ]
          },
          "metadata": {
            "tags": []
          },
          "execution_count": 8
        },
        {
          "output_type": "display_data",
          "data": {
            "image/png": "[encoded data removed]",
            "text/plain": [
              "<Figure size 1440x1440 with 2 Axes>"
            ]
          },
          "metadata": {
            "tags": []
          }
        }
      ]
    },
    {
      "cell_type": "markdown",
      "metadata": {
        "id": "Ka7DFtxw7BKp"
      },
      "source": [
        "Inference: \n",
        "* Prformed correaltion with soearman since a lot of features are not normal in nature but all in vain, still i think spearman will be better form, since the data is not normally distributed. \n",
        "* Both the heatmaps dont have much of difference, i was expecting better correlation due to the data nature. \n",
        "* So the feature selection for Regression haa to be performed using mutual info "
      ]
    },
    {
      "cell_type": "markdown",
      "metadata": {
        "id": "ozBrRZfcfPCd"
      },
      "source": [
        "# Model Creation\n"
      ]
    },
    {
      "cell_type": "markdown",
      "metadata": {
        "id": "8GWSWK8E419g"
      },
      "source": [
        "## Linear Model creation "
      ]
    },
    {
      "cell_type": "markdown",
      "metadata": {
        "id": "7zjn3yXuShtK"
      },
      "source": [
        "### Feature selection "
      ]
    },
    {
      "cell_type": "markdown",
      "metadata": {
        "id": "1ed1ScHKUcec"
      },
      "source": [
        "Prior to feature selection need to sepearte the target and features"
      ]
    },
    {
      "cell_type": "markdown",
      "metadata": {
        "id": "LCNxGiwbXFCH"
      },
      "source": [
        "* x = train.iloc[: ,:-1]\n",
        "* y = train.iloc[:,-1]"
      ]
    },
    {
      "cell_type": "code",
      "metadata": {
        "id": "-Jdv3Lk5UnT2",
        "colab": {
          "base_uri": "https://localhost:8080/"
        },
        "outputId": "674caaf2-d09f-46e5-8ea0-aba8362a3637"
      },
      "source": [
        "# Splitting\n",
        "from sklearn.model_selection import train_test_split\n",
        "\n",
        "x_train, x_test, y_train, y_test = train_test_split(train.iloc[: ,:-1], train.iloc[:,-1], \n",
        "                                                    test_size=0.4, random_state=2)\n",
        "print(\"X-train shape\", x_train.shape, \"\\nY-test shape\" ,y_test.shape)"
      ],
      "execution_count": null,
      "outputs": [
        {
          "output_type": "stream",
          "text": [
            "X-train shape (150000, 100) \n",
            "Y-test shape (100000,)\n"
          ],
          "name": "stdout"
        }
      ]
    },
    {
      "cell_type": "markdown",
      "metadata": {
        "id": "GqoglH-HLZye"
      },
      "source": [
        "* So in order to perform multiple linear regression, I need to select which all features will i use. Now here is the catch, for feature selection, i can use  spearman correlation , since most of the data has outliers and no normal distribution, caveates for pearson correlation. https://towardsdatascience.com/pearson-and-spearman-rank-correlation-coefficient-explained-60811e61185a, https://towardsdatascience.com/pearson-coefficient-of-correlation-explained-369991d93404\n",
        "* The other method is via Mutual infomration. https://machinelearningmastery.com/feature-selection-for-regression-data/, https://towardsdatascience.com/how-to-perform-feature-selection-for-regression-problems-c928e527bbfa\n",
        "* I'will be going with Mutual Info, since the heatmaps are not giving me suffcient confidence. "
      ]
    },
    {
      "cell_type": "code",
      "metadata": {
        "id": "ZhBGTS8GTBAW"
      },
      "source": [
        "# Feature selection with Mutual Information\n",
        "from sklearn.feature_selection import SelectKBest\n",
        "from sklearn.feature_selection import mutual_info_regression\n",
        "\n",
        "# feature selection\n",
        "f_selector = SelectKBest(score_func=mutual_info_regression, k='all')\n",
        "\n",
        "# learn relationship from training data\n",
        "f_selector.fit(x_train, y_train)\n",
        "\n",
        "# transform train input data\n",
        "x_train_fs = f_selector.transform(x_train)\n",
        "\n",
        "# transform test input data\n",
        "x_test_fs = f_selector.transform(x_test)\n",
        "\n",
        "# Plot the scores for the features\n",
        "plt.bar([i for i in range(len(f_selector.scores_))], f_selector.scores_)\n",
        "plt.xlabel(\"feature index\")\n",
        "plt.ylabel(\"Estimated MI value\")\n",
        "plt.show()\n"
      ],
      "execution_count": null,
      "outputs": []
    },
    {
      "cell_type": "markdown",
      "metadata": {
        "id": "xydi6KrhfqXK"
      },
      "source": [
        "Couldn't run mutula info, due to unavailable ram"
      ]
    },
    {
      "cell_type": "markdown",
      "metadata": {
        "id": "QURvdvO9fUiy"
      },
      "source": [
        "## Random Forest 1.0: baseline"
      ]
    },
    {
      "cell_type": "code",
      "metadata": {
        "id": "4TpWi4Jcfjjn"
      },
      "source": [
        "# Splitting\n",
        "from sklearn.model_selection import train_test_split\n",
        "\n",
        "x_train, x_test, y_train, y_test = train_test_split(train.iloc[: ,:-1], train.iloc[:,-1], \n",
        "                                                    test_size=0.4, random_state=2)\n",
        "print(\"X-train shape\", x_train.shape, \"\\nY-test shape\" ,y_test.shape)"
      ],
      "execution_count": null,
      "outputs": []
    },
    {
      "cell_type": "code",
      "metadata": {
        "id": "5qcIBZpkjAQI",
        "colab": {
          "base_uri": "https://localhost:8080/"
        },
        "outputId": "953b3491-21ee-4b21-a6ac-5ddd88b097ee"
      },
      "source": [
        "# Import the model we are using\n",
        "from sklearn.ensemble import RandomForestRegressor\n",
        "# Instantiate model with 1000 decision trees\n",
        "rf = RandomForestRegressor()\n",
        "# Train the model on training data\n",
        "rf.fit(x_train, y_train)"
      ],
      "execution_count": null,
      "outputs": [
        {
          "output_type": "execute_result",
          "data": {
            "text/plain": [
              "RandomForestRegressor(bootstrap=True, ccp_alpha=0.0, criterion='mse',\n",
              "                      max_depth=None, max_features='auto', max_leaf_nodes=None,\n",
              "                      max_samples=None, min_impurity_decrease=0.0,\n",
              "                      min_impurity_split=None, min_samples_leaf=1,\n",
              "                      min_samples_split=2, min_weight_fraction_leaf=0.0,\n",
              "                      n_estimators=100, n_jobs=None, oob_score=False,\n",
              "                      random_state=None, verbose=0, warm_start=False)"
            ]
          },
          "metadata": {
            "tags": []
          },
          "execution_count": 4
        }
      ]
    },
    {
      "cell_type": "code",
      "metadata": {
        "colab": {
          "base_uri": "https://localhost:8080/"
        },
        "id": "TDrG4Ln_Y65f",
        "outputId": "ff7f9fe1-cf2d-419d-9dd9-f81a7c999eb0"
      },
      "source": [
        "# Use the forest's predict method on the test data\n",
        "y_pred = rf.predict(x_test)\n",
        "# Calculate the absolute errors\n",
        "errors = abs(y_pred - y_test)\n",
        "# Print out the mean absolute error (mae)\n",
        "print('Base line Mean Absolute Error', round(np.mean(errors), 2), 'degrees.')"
      ],
      "execution_count": null,
      "outputs": [
        {
          "output_type": "stream",
          "text": [
            "Base line Mean Absolute Error 6.33 degrees.\n"
          ],
          "name": "stdout"
        }
      ]
    },
    {
      "cell_type": "code",
      "metadata": {
        "colab": {
          "base_uri": "https://localhost:8080/",
          "height": 411
        },
        "id": "kO1UthJIpMrD",
        "outputId": "f05a9b69-51dc-4cfe-fce1-38900a6877c3"
      },
      "source": [
        "submission['loss'] = rf.predict(test)\n",
        "submission"
      ],
      "execution_count": null,
      "outputs": [
        {
          "output_type": "execute_result",
          "data": {
            "text/html": [
              "<div>\n",
              "<style scoped>\n",
              "    .dataframe tbody tr th:only-of-type {\n",
              "        vertical-align: middle;\n",
              "    }\n",
              "\n",
              "    .dataframe tbody tr th {\n",
              "        vertical-align: top;\n",
              "    }\n",
              "\n",
              "    .dataframe thead th {\n",
              "        text-align: right;\n",
              "    }\n",
              "</style>\n",
              "<table border=\"1\" class=\"dataframe\">\n",
              "  <thead>\n",
              "    <tr style=\"text-align: right;\">\n",
              "      <th></th>\n",
              "      <th>id</th>\n",
              "      <th>loss</th>\n",
              "    </tr>\n",
              "  </thead>\n",
              "  <tbody>\n",
              "    <tr>\n",
              "      <th>0</th>\n",
              "      <td>250000</td>\n",
              "      <td>6.79</td>\n",
              "    </tr>\n",
              "    <tr>\n",
              "      <th>1</th>\n",
              "      <td>250001</td>\n",
              "      <td>8.05</td>\n",
              "    </tr>\n",
              "    <tr>\n",
              "      <th>2</th>\n",
              "      <td>250002</td>\n",
              "      <td>8.74</td>\n",
              "    </tr>\n",
              "    <tr>\n",
              "      <th>3</th>\n",
              "      <td>250003</td>\n",
              "      <td>5.63</td>\n",
              "    </tr>\n",
              "    <tr>\n",
              "      <th>4</th>\n",
              "      <td>250004</td>\n",
              "      <td>8.09</td>\n",
              "    </tr>\n",
              "    <tr>\n",
              "      <th>...</th>\n",
              "      <td>...</td>\n",
              "      <td>...</td>\n",
              "    </tr>\n",
              "    <tr>\n",
              "      <th>149995</th>\n",
              "      <td>399995</td>\n",
              "      <td>7.51</td>\n",
              "    </tr>\n",
              "    <tr>\n",
              "      <th>149996</th>\n",
              "      <td>399996</td>\n",
              "      <td>6.36</td>\n",
              "    </tr>\n",
              "    <tr>\n",
              "      <th>149997</th>\n",
              "      <td>399997</td>\n",
              "      <td>6.55</td>\n",
              "    </tr>\n",
              "    <tr>\n",
              "      <th>149998</th>\n",
              "      <td>399998</td>\n",
              "      <td>7.09</td>\n",
              "    </tr>\n",
              "    <tr>\n",
              "      <th>149999</th>\n",
              "      <td>399999</td>\n",
              "      <td>7.52</td>\n",
              "    </tr>\n",
              "  </tbody>\n",
              "</table>\n",
              "<p>150000 rows × 2 columns</p>\n",
              "</div>"
            ],
            "text/plain": [
              "            id  loss\n",
              "0       250000  6.79\n",
              "1       250001  8.05\n",
              "2       250002  8.74\n",
              "3       250003  5.63\n",
              "4       250004  8.09\n",
              "...        ...   ...\n",
              "149995  399995  7.51\n",
              "149996  399996  6.36\n",
              "149997  399997  6.55\n",
              "149998  399998  7.09\n",
              "149999  399999  7.52\n",
              "\n",
              "[150000 rows x 2 columns]"
            ]
          },
          "metadata": {
            "tags": []
          },
          "execution_count": 12
        }
      ]
    },
    {
      "cell_type": "markdown",
      "metadata": {
        "id": "3vbDMgVeq0z4"
      },
      "source": [
        "Need to improve the hyperparameters of the data\n",
        "https://medium.com/@ODSC/optimizing-hyperparameters-for-random-forest-algorithms-in-scikit-learn-d60b7aa07ead, https://towardsdatascience.com/random-forest-hyperparameters-and-how-to-fine-tune-them-17aee785ee0d, https://coderzcolumn.com/tutorials/machine-learning/scikit-learn-sklearn-ensemble-learning-bagging-and-random-forests\n",
        "* Now someone with higher computing power can try muotiple combination, i\n",
        "'ll fix teh features on a whim. "
      ]
    },
    {
      "cell_type": "markdown",
      "metadata": {
        "id": "SOJtQgI1fdGa"
      },
      "source": [
        "## random forest: parameter tuning"
      ]
    },
    {
      "cell_type": "code",
      "metadata": {
        "colab": {
          "base_uri": "https://localhost:8080/"
        },
        "id": "9vNyRvpoflDG",
        "outputId": "e1170349-89f1-4b99-8704-8ad17f34127b"
      },
      "source": [
        "# Splitting\n",
        "from sklearn.model_selection import train_test_split\n",
        "\n",
        "x_train, x_test, y_train, y_test = train_test_split(train.iloc[: ,:-1], train.iloc[:,-1], \n",
        "                                                    test_size=0.4, random_state=2)\n",
        "print(\"X-train shape\", x_train.shape, \"\\nY-test shape\" ,y_test.shape)"
      ],
      "execution_count": null,
      "outputs": [
        {
          "output_type": "stream",
          "text": [
            "X-train shape (150000, 100) \n",
            "Y-test shape (100000,)\n"
          ],
          "name": "stdout"
        }
      ]
    },
    {
      "cell_type": "code",
      "metadata": {
        "id": "pyNM-leb2PQL"
      },
      "source": [
        "# Max number of trees\n",
        "n_estimators = [100, 200]\n",
        "\n",
        "# Tree depth\n",
        "max_depth = [10,15]\n",
        "\n",
        "# Min samples for a node to split\n",
        "min_samples_split = [25, 50]\n",
        "\n",
        "# Min samples at the leaf node after split\n",
        "min_samples_leaf = [5, 10]"
      ],
      "execution_count": null,
      "outputs": []
    },
    {
      "cell_type": "code",
      "metadata": {
        "id": "uiUvz-JWrfWQ"
      },
      "source": [
        "params = {'n_estimators': n_estimators,\n",
        "          'max_depth': max_depth,\n",
        "          'min_samples_split': min_samples_split,\n",
        "          'min_samples_leaf': min_samples_leaf } \n",
        "         \n"
      ],
      "execution_count": null,
      "outputs": []
    },
    {
      "cell_type": "code",
      "metadata": {
        "colab": {
          "base_uri": "https://localhost:8080/"
        },
        "id": "aGqrTgYtLIq3",
        "outputId": "f2118bd1-2273-41cb-c093-8b4db893c659"
      },
      "source": [
        "from sklearn.model_selection import RandomizedSearchCV\n",
        "\n",
        "# Import the model we are using\n",
        "from sklearn.ensemble import RandomForestRegressor\n",
        "# Instantiate model with 1000 decision trees\n",
        "rf = RandomForestRegressor(random_state = 5)\n",
        "\n",
        "rf_regressor_random = RandomizedSearchCV(estimator = rf, \n",
        "                                         param_distributions = params, \n",
        "                                         n_jobs=-1, cv=3, verbose = 2,\n",
        "                                         random_state = 5 )\n",
        "rf_regressor_random.fit(x_train, y_train)\n",
        "\n",
        "print('Best Parameters : ',rf_regressor_random.best_params_)"
      ],
      "execution_count": null,
      "outputs": [
        {
          "output_type": "stream",
          "text": [
            "Fitting 3 folds for each of 10 candidates, totalling 30 fits\n"
          ],
          "name": "stdout"
        },
        {
          "output_type": "stream",
          "text": [
            "[Parallel(n_jobs=-1)]: Using backend LokyBackend with 2 concurrent workers.\n"
          ],
          "name": "stderr"
        }
      ]
    },
    {
      "cell_type": "code",
      "metadata": {
        "id": "QPC8NE63NXGC"
      },
      "source": [
        "\n",
        "print('Best Parameters : ',rf_regressor_random.best_params_)"
      ],
      "execution_count": null,
      "outputs": []
    },
    {
      "cell_type": "markdown",
      "metadata": {
        "id": "AJ-qvF9ELBa7"
      },
      "source": [
        "## RF with param 2.0"
      ]
    },
    {
      "cell_type": "code",
      "metadata": {
        "colab": {
          "base_uri": "https://localhost:8080/"
        },
        "id": "I2f2KROLLFvC",
        "outputId": "11cbe14e-a88c-4ec3-906b-e51de26bd57e"
      },
      "source": [
        "# Splitting\n",
        "from sklearn.model_selection import train_test_split\n",
        "\n",
        "x_train, x_test, y_train, y_test = train_test_split(train.iloc[: ,:-1], train.iloc[:,-1], \n",
        "                                                    test_size=0.4, random_state=2)\n",
        "print(\"X-train shape\", x_train.shape, \"\\nY-test shape\" ,y_test.shape)"
      ],
      "execution_count": null,
      "outputs": [
        {
          "output_type": "stream",
          "text": [
            "X-train shape (150000, 100) \n",
            "Y-test shape (100000,)\n"
          ],
          "name": "stdout"
        }
      ]
    },
    {
      "cell_type": "markdown",
      "metadata": {
        "id": "8mAYRAJYLqlc"
      },
      "source": [
        "* Max number of trees\n",
        "n_estimators = [100, 200]\n",
        "\n",
        "* Tree depth\n",
        "max_depth = [10,15]\n",
        "\n",
        "* Min samples for a node to split\n",
        "min_samples_split = [25, 50]\n",
        "\n",
        "* Min samples at the leaf node after split\n",
        "min_samples_leaf = [5, 10]"
      ]
    },
    {
      "cell_type": "code",
      "metadata": {
        "colab": {
          "base_uri": "https://localhost:8080/"
        },
        "id": "eFPa7ipQLL04",
        "outputId": "614944ec-738a-4be2-bf7f-a0f39cbbf11e"
      },
      "source": [
        "# Import the model we are using\n",
        "from sklearn.ensemble import RandomForestRegressor\n",
        "# Instantiate model with 1000 decision trees\n",
        "rf = RandomForestRegressor(n_estimators=200, max_depth = 10, \n",
        "                           min_samples_split = 25, min_samples_leaf = 5,\n",
        "                           verbose = 1)\n",
        "\n",
        "# Train the model on training data\n",
        "rf.fit(x_train, y_train)\n",
        "\n",
        "# Use the forest's predict method on the test data\n",
        "y_pred = rf.predict(x_test)\n",
        "# Calculate the absolute errors\n",
        "errors = abs(y_pred - y_test)\n",
        "# Print out the mean absolute error (mae)\n",
        "print('Base line Mean Absolute Error', round(np.mean(errors), 2), 'degrees.')"
      ],
      "execution_count": null,
      "outputs": [
        {
          "output_type": "stream",
          "text": [
            "[Parallel(n_jobs=1)]: Using backend SequentialBackend with 1 concurrent workers.\n",
            "[Parallel(n_jobs=1)]: Done 200 out of 200 | elapsed: 47.1min finished\n",
            "[Parallel(n_jobs=1)]: Using backend SequentialBackend with 1 concurrent workers.\n"
          ],
          "name": "stderr"
        },
        {
          "output_type": "stream",
          "text": [
            "Base line Mean Absolute Error 6.18 degrees.\n"
          ],
          "name": "stdout"
        },
        {
          "output_type": "stream",
          "text": [
            "[Parallel(n_jobs=1)]: Done 200 out of 200 | elapsed:    2.2s finished\n"
          ],
          "name": "stderr"
        }
      ]
    },
    {
      "cell_type": "markdown",
      "metadata": {
        "id": "Bh6u8wdXaRig"
      },
      "source": [
        "## RF Param 2.1"
      ]
    },
    {
      "cell_type": "code",
      "metadata": {
        "id": "Q2mBr3klaVlr"
      },
      "source": [
        "# Splitting\n",
        "from sklearn.model_selection import train_test_split\n",
        "\n",
        "x_train, x_test, y_train, y_test = train_test_split(train.iloc[: ,:-1], train.iloc[:,-1], \n",
        "                                                    test_size=0.4, random_state=2)\n",
        "print(\"X-train shape\", x_train.shape, \"\\nY-test shape\" ,y_test.shape)"
      ],
      "execution_count": null,
      "outputs": []
    },
    {
      "cell_type": "code",
      "metadata": {
        "colab": {
          "base_uri": "https://localhost:8080/"
        },
        "id": "WjEPoipoLYti",
        "outputId": "498168f0-56db-4ee4-a11d-b11a23005e3f"
      },
      "source": [
        "# Import the model we are using\n",
        "from sklearn.ensemble import RandomForestRegressor\n",
        "# Instantiate model with 1000 decision trees\n",
        "rf = RandomForestRegressor(n_estimators=200, max_depth = 20, \n",
        "                           min_samples_split = 50, min_samples_leaf = 10,\n",
        "                           verbose = 1)\n",
        "\n",
        "# Train the model on training data\n",
        "rf.fit(x_train, y_train)\n",
        "\n",
        "# Use the forest's predict method on the test data\n",
        "y_pred = rf.predict(x_test)\n",
        "# Calculate the absolute errors\n",
        "errors = abs(y_pred - y_test)\n",
        "# Print out the mean absolute error (mae)\n",
        "print('Base line Mean Absolute Error', round(np.mean(errors), 2), 'degrees.')\n"
      ],
      "execution_count": null,
      "outputs": [
        {
          "output_type": "stream",
          "text": [
            "[Parallel(n_jobs=1)]: Using backend SequentialBackend with 1 concurrent workers.\n",
            "[Parallel(n_jobs=1)]: Done 200 out of 200 | elapsed: 77.6min finished\n",
            "[Parallel(n_jobs=1)]: Using backend SequentialBackend with 1 concurrent workers.\n"
          ],
          "name": "stderr"
        },
        {
          "output_type": "stream",
          "text": [
            "Base line Mean Absolute Error 6.18 degrees.\n"
          ],
          "name": "stdout"
        },
        {
          "output_type": "stream",
          "text": [
            "[Parallel(n_jobs=1)]: Done 200 out of 200 | elapsed:    4.5s finished\n"
          ],
          "name": "stderr"
        }
      ]
    },
    {
      "cell_type": "code",
      "metadata": {
        "colab": {
          "base_uri": "https://localhost:8080/"
        },
        "id": "l5EFhAoOsjka",
        "outputId": "8b17a1b6-09a3-4091-814e-6951210a76a7"
      },
      "source": [
        "# Print out the mean absolute error (mae)\n",
        "print('Base line Mean Absolute Error', round(np.mean(errors), 4), 'degrees.')"
      ],
      "execution_count": null,
      "outputs": [
        {
          "output_type": "stream",
          "text": [
            "Base line Mean Absolute Error 6.177 degrees.\n"
          ],
          "name": "stdout"
        }
      ]
    },
    {
      "cell_type": "markdown",
      "metadata": {
        "id": "gVZmAfjVaNRP"
      },
      "source": [
        "## Rf param 2.2"
      ]
    },
    {
      "cell_type": "code",
      "metadata": {
        "colab": {
          "base_uri": "https://localhost:8080/"
        },
        "id": "tLQCzziUhbKF",
        "outputId": "a6040cbe-4b6f-42b5-8f2c-cded95bd8815"
      },
      "source": [
        "# Splitting\n",
        "from sklearn.model_selection import train_test_split\n",
        "\n",
        "x_train, x_test, y_train, y_test = train_test_split(train.iloc[: ,:-1], train.iloc[:,-1], \n",
        "                                                    test_size=0.4, random_state=2)\n",
        "print(\"X-train shape\", x_train.shape, \"\\nY-test shape\" ,y_test.shape)"
      ],
      "execution_count": null,
      "outputs": [
        {
          "output_type": "stream",
          "text": [
            "X-train shape (150000, 100) \n",
            "Y-test shape (100000,)\n"
          ],
          "name": "stdout"
        }
      ]
    },
    {
      "cell_type": "code",
      "metadata": {
        "colab": {
          "base_uri": "https://localhost:8080/"
        },
        "id": "aFlTsSLeheOz",
        "outputId": "ddd6c68d-f524-41ef-9e2b-086fdab004c9"
      },
      "source": [
        "# Import the model we are using\n",
        "from sklearn.ensemble import RandomForestRegressor\n",
        "\n",
        "# Initantiate model with 500 decision trees\n",
        "rf = RandomForestRegressor(n_estimators=500, max_depth = 20, \n",
        "                           min_samples_split = 50, min_samples_leaf = 10,\n",
        "                           verbose = 1)\n",
        "\n",
        "# Train the model on training data\n",
        "rf.fit(x_train, y_train)\n",
        "\n",
        "# Use the forest's predict method on the test data\n",
        "y_pred = rf.predict(x_test)\n",
        "# Calculate the absolute errors\n",
        "errors = abs(y_pred - y_test)\n",
        "# Print out the mean absolute error (mae)\n",
        "print('Base line Mean Absolute Error', round(np.mean(errors), 4), 'degrees.')\n"
      ],
      "execution_count": null,
      "outputs": [
        {
          "output_type": "stream",
          "text": [
            "[Parallel(n_jobs=1)]: Using backend SequentialBackend with 1 concurrent workers.\n",
            "[Parallel(n_jobs=1)]: Done 500 out of 500 | elapsed: 193.4min finished\n",
            "[Parallel(n_jobs=1)]: Using backend SequentialBackend with 1 concurrent workers.\n"
          ],
          "name": "stderr"
        },
        {
          "output_type": "stream",
          "text": [
            "Base line Mean Absolute Error 6.1742 degrees.\n"
          ],
          "name": "stdout"
        },
        {
          "output_type": "stream",
          "text": [
            "[Parallel(n_jobs=1)]: Done 500 out of 500 | elapsed:   11.2s finished\n"
          ],
          "name": "stderr"
        }
      ]
    },
    {
      "cell_type": "code",
      "metadata": {
        "colab": {
          "base_uri": "https://localhost:8080/",
          "height": 444
        },
        "id": "XNdSHGuCaKXO",
        "outputId": "6d2b4a45-48a0-4334-92bc-b6912a5c598b"
      },
      "source": [
        "submission['loss'] = rf.predict(test)\n",
        "submission\n",
        "submission.to_csv(\"submission_rf2.2.csv\")"
      ],
      "execution_count": null,
      "outputs": [
        {
          "output_type": "stream",
          "text": [
            "[Parallel(n_jobs=1)]: Using backend SequentialBackend with 1 concurrent workers.\n",
            "[Parallel(n_jobs=1)]: Done 500 out of 500 | elapsed:   16.1s finished\n"
          ],
          "name": "stderr"
        },
        {
          "output_type": "execute_result",
          "data": {
            "text/html": [
              "<div>\n",
              "<style scoped>\n",
              "    .dataframe tbody tr th:only-of-type {\n",
              "        vertical-align: middle;\n",
              "    }\n",
              "\n",
              "    .dataframe tbody tr th {\n",
              "        vertical-align: top;\n",
              "    }\n",
              "\n",
              "    .dataframe thead th {\n",
              "        text-align: right;\n",
              "    }\n",
              "</style>\n",
              "<table border=\"1\" class=\"dataframe\">\n",
              "  <thead>\n",
              "    <tr style=\"text-align: right;\">\n",
              "      <th></th>\n",
              "      <th>id</th>\n",
              "      <th>loss</th>\n",
              "    </tr>\n",
              "  </thead>\n",
              "  <tbody>\n",
              "    <tr>\n",
              "      <th>0</th>\n",
              "      <td>250000</td>\n",
              "      <td>7.078445</td>\n",
              "    </tr>\n",
              "    <tr>\n",
              "      <th>1</th>\n",
              "      <td>250001</td>\n",
              "      <td>6.798377</td>\n",
              "    </tr>\n",
              "    <tr>\n",
              "      <th>2</th>\n",
              "      <td>250002</td>\n",
              "      <td>6.646562</td>\n",
              "    </tr>\n",
              "    <tr>\n",
              "      <th>3</th>\n",
              "      <td>250003</td>\n",
              "      <td>6.350316</td>\n",
              "    </tr>\n",
              "    <tr>\n",
              "      <th>4</th>\n",
              "      <td>250004</td>\n",
              "      <td>7.369272</td>\n",
              "    </tr>\n",
              "    <tr>\n",
              "      <th>...</th>\n",
              "      <td>...</td>\n",
              "      <td>...</td>\n",
              "    </tr>\n",
              "    <tr>\n",
              "      <th>149995</th>\n",
              "      <td>399995</td>\n",
              "      <td>7.074968</td>\n",
              "    </tr>\n",
              "    <tr>\n",
              "      <th>149996</th>\n",
              "      <td>399996</td>\n",
              "      <td>6.717687</td>\n",
              "    </tr>\n",
              "    <tr>\n",
              "      <th>149997</th>\n",
              "      <td>399997</td>\n",
              "      <td>6.355458</td>\n",
              "    </tr>\n",
              "    <tr>\n",
              "      <th>149998</th>\n",
              "      <td>399998</td>\n",
              "      <td>6.134388</td>\n",
              "    </tr>\n",
              "    <tr>\n",
              "      <th>149999</th>\n",
              "      <td>399999</td>\n",
              "      <td>7.234156</td>\n",
              "    </tr>\n",
              "  </tbody>\n",
              "</table>\n",
              "<p>150000 rows × 2 columns</p>\n",
              "</div>"
            ],
            "text/plain": [
              "            id      loss\n",
              "0       250000  7.078445\n",
              "1       250001  6.798377\n",
              "2       250002  6.646562\n",
              "3       250003  6.350316\n",
              "4       250004  7.369272\n",
              "...        ...       ...\n",
              "149995  399995  7.074968\n",
              "149996  399996  6.717687\n",
              "149997  399997  6.355458\n",
              "149998  399998  6.134388\n",
              "149999  399999  7.234156\n",
              "\n",
              "[150000 rows x 2 columns]"
            ]
          },
          "metadata": {
            "tags": []
          },
          "execution_count": 13
        }
      ]
    },
    {
      "cell_type": "code",
      "metadata": {
        "id": "J4Ba1PGSU_IK"
      },
      "source": [
        "submission1 = pd.read_csv('/content/submission_rf2.2.csv')"
      ],
      "execution_count": null,
      "outputs": []
    },
    {
      "cell_type": "code",
      "metadata": {
        "id": "KPBIvtNXVS4L"
      },
      "source": [
        "submission1.drop(columns = 'Unnamed: 0', inplace  = True)"
      ],
      "execution_count": null,
      "outputs": []
    },
    {
      "cell_type": "code",
      "metadata": {
        "id": "s4e5-O5kVUnp"
      },
      "source": [
        "submission1.to_csv('submission_rf2.csv', index = False)"
      ],
      "execution_count": null,
      "outputs": []
    },
    {
      "cell_type": "markdown",
      "metadata": {
        "id": "srqvpLoya7v0"
      },
      "source": [
        "# keep the runtime open"
      ]
    },
    {
      "cell_type": "markdown",
      "metadata": {
        "id": "tyDUmbyS50Mw"
      },
      "source": [
        "(# comand +option +i)\n",
        "\n",
        "function ConnectButton(){\n",
        "    console.log(\"Connect pushed\"); \n",
        "    document.querySelector(\"#top-toolbar > colab-connect-button\").shadowRoot.querySelector(\"#connect\").click() \n",
        "}\n",
        "setInterval(ConnectButton,120000);"
      ]
    },
    {
      "cell_type": "markdown",
      "metadata": {
        "id": "zOoBKen1bmAc"
      },
      "source": [
        "# Dimension Reductionality"
      ]
    },
    {
      "cell_type": "markdown",
      "metadata": {
        "id": "aquT9jChWir2"
      },
      "source": [
        "With the help of PCA i'll reduce the dimensions of the and then check the correlation and model for prediction\n"
      ]
    },
    {
      "cell_type": "markdown",
      "metadata": {
        "id": "BloMYsubXKR_"
      },
      "source": [
        "Steps of PCA\n",
        "* Splitting\n",
        "* Standarisation\n",
        "* PCA https://www.datacamp.com/community/tutorials/principal-component-analysis-in-python\n"
      ]
    },
    {
      "cell_type": "code",
      "metadata": {
        "colab": {
          "base_uri": "https://localhost:8080/"
        },
        "id": "LcwUL4kDZxDP",
        "outputId": "ac391d06-50b8-4cb9-82ba-1d02fcd67210"
      },
      "source": [
        "# Splitting\n",
        "from sklearn.model_selection import train_test_split\n",
        "\n",
        "x_train, x_test, y_train, y_test = train_test_split( train.iloc[: ,:-1], train.iloc[:,-1], \n",
        "                                                    test_size=0.2, random_state=2)\n",
        "print(\"X-train shape\", x_train.shape, \"\\nY-test shape\" ,y_test.shape)\n",
        "\n",
        "# Standard scaling\n",
        "from sklearn.preprocessing import StandardScaler\n",
        "\n",
        "ss = StandardScaler()\n",
        "x_train = pd.DataFrame(ss.fit_transform(x_train))\n",
        "x_test = pd.DataFrame(ss.fit_transform(x_test))"
      ],
      "execution_count": null,
      "outputs": [
        {
          "output_type": "stream",
          "text": [
            "X-train shape (200000, 100) \n",
            "Y-test shape (50000,)\n"
          ],
          "name": "stdout"
        }
      ]
    },
    {
      "cell_type": "code",
      "metadata": {
        "colab": {
          "base_uri": "https://localhost:8080/"
        },
        "id": "J7cs2VIoXwoq",
        "outputId": "02305bc8-eef5-4cde-8b5a-20b914fd87ed"
      },
      "source": [
        "# making sure that mean is 0\n",
        "\n",
        "print(x_train.mean().sum())\n",
        "print(x_test.mean().sum())"
      ],
      "execution_count": null,
      "outputs": [
        {
          "output_type": "stream",
          "text": [
            "-1.2129777564318108e-15\n",
            "-3.1159778229872267e-15\n"
          ],
          "name": "stdout"
        }
      ]
    },
    {
      "cell_type": "markdown",
      "metadata": {
        "id": "357oKmbEiaVp"
      },
      "source": [
        "## pca default"
      ]
    },
    {
      "cell_type": "code",
      "metadata": {
        "id": "yTiIcH86XyN4"
      },
      "source": [
        "# PCA\n",
        "from sklearn.decomposition import PCA\n",
        "pca = PCA()\n",
        "pca_train = pca.fit_transform(x_train)"
      ],
      "execution_count": null,
      "outputs": []
    },
    {
      "cell_type": "code",
      "metadata": {
        "id": "Zg21Al8mc2ov"
      },
      "source": [
        "pca_train = pd.DataFrame(pca_train)\n",
        "list_name = [f'pc{i}' for i in range(100)]\n",
        "pca_train.columns = list_name\n",
        "pca_train\n"
      ],
      "execution_count": null,
      "outputs": []
    },
    {
      "cell_type": "markdown",
      "metadata": {
        "id": "d7q95LtYVAbd"
      },
      "source": [
        "## Number of PC\n",
        "A vital part of using PCA in practice is the ability to estimate how many components are needed to describe the data. This can be determined by looking at the cumulative explained variance ratio as a function of the number of components\n",
        "\n",
        "* https://jakevdp.github.io/PythonDataScienceHandbook/05.09-principal-component-analysis.html\n"
      ]
    },
    {
      "cell_type": "code",
      "metadata": {
        "colab": {
          "base_uri": "https://localhost:8080/"
        },
        "id": "9Rys87ibcAzh",
        "outputId": "4da25aba-a8ab-4bf0-a9c5-7690ea1285e0"
      },
      "source": [
        "explained_variance = pca.explained_variance_ratio_\n",
        "explained_variance"
      ],
      "execution_count": null,
      "outputs": [
        {
          "output_type": "execute_result",
          "data": {
            "text/plain": [
              "array([0.01233764, 0.01203594, 0.01177884, 0.01166103, 0.01165398,\n",
              "       0.01153597, 0.01134726, 0.01126693, 0.01122782, 0.01116048,\n",
              "       0.01110284, 0.01106751, 0.01103489, 0.01091206, 0.01086043,\n",
              "       0.01082844, 0.01078221, 0.01073624, 0.01072728, 0.01070806,\n",
              "       0.01063748, 0.01060454, 0.01053135, 0.01052571, 0.01045666,\n",
              "       0.01043383, 0.01042267, 0.01040123, 0.01036672, 0.01031513,\n",
              "       0.0102983 , 0.01027848, 0.01023785, 0.01021943, 0.01021045,\n",
              "       0.01018356, 0.01014833, 0.01013891, 0.010129  , 0.01011336,\n",
              "       0.01008648, 0.01008301, 0.01005011, 0.01000533, 0.00999697,\n",
              "       0.00997836, 0.00994146, 0.00991805, 0.00989941, 0.00987299,\n",
              "       0.00985075, 0.00984396, 0.00983715, 0.00981478, 0.00978883,\n",
              "       0.00978246, 0.00975814, 0.00973694, 0.00971438, 0.00968819,\n",
              "       0.0096665 , 0.00965468, 0.00964796, 0.00962819, 0.00960044,\n",
              "       0.0095864 , 0.00957647, 0.0095443 , 0.0095326 , 0.00950919,\n",
              "       0.00949046, 0.00947163, 0.00943676, 0.00942907, 0.00940297,\n",
              "       0.00938243, 0.00937013, 0.00933816, 0.00932206, 0.0093014 ,\n",
              "       0.00928307, 0.00924843, 0.00924501, 0.009207  , 0.00919195,\n",
              "       0.00917713, 0.00916851, 0.00915729, 0.00910817, 0.00909054,\n",
              "       0.00905303, 0.00902154, 0.0090122 , 0.00899444, 0.0089564 ,\n",
              "       0.00891998, 0.00889938, 0.00883771, 0.00877139, 0.00869846])"
            ]
          },
          "metadata": {
            "tags": []
          },
          "execution_count": 44
        }
      ]
    },
    {
      "cell_type": "code",
      "metadata": {
        "colab": {
          "base_uri": "https://localhost:8080/",
          "height": 277
        },
        "id": "O6DGYFqARzT0",
        "outputId": "9b1a7a80-c43c-487e-8fcb-64799b5f671e"
      },
      "source": [
        "plt.plot(np.cumsum(explained_variance))\n",
        "plt.xlabel('number of components')\n",
        "plt.ylabel('cumulative explained variance');"
      ],
      "execution_count": null,
      "outputs": [
        {
          "output_type": "display_data",
          "data": {
            "image/png": "[encoded data removed]",
            "text/plain": [
              "<Figure size 432x288 with 1 Axes>"
            ]
          },
          "metadata": {
            "tags": [],
            "needs_background": "light"
          }
        }
      ]
    },
    {
      "cell_type": "markdown",
      "metadata": {
        "id": "PtSXEzWmXy65"
      },
      "source": [
        "### PCA 0.95\n",
        "https://towardsdatascience.com/pca-using-python-scikit-learn-e653f8989e60"
      ]
    },
    {
      "cell_type": "code",
      "metadata": {
        "id": "h3Mj0tLAVXLY",
        "colab": {
          "base_uri": "https://localhost:8080/",
          "height": 198
        },
        "outputId": "d7eebb36-36bb-41bb-fc41-d7567c95a75a"
      },
      "source": [
        "\n",
        "from sklearn.decomposition import PCA\n",
        "pca1 = PCA(0.95)\n",
        "pca_train1 = pca1.fit(x_train)"
      ],
      "execution_count": null,
      "outputs": [
        {
          "output_type": "error",
          "ename": "NameError",
          "evalue": "ignored",
          "traceback": [
            "\u001b[0;31m---------------------------------------------------------------------------\u001b[0m",
            "\u001b[0;31mNameError\u001b[0m                                 Traceback (most recent call last)",
            "\u001b[0;32m<ipython-input-2-d580b9f5c084>\u001b[0m in \u001b[0;36m<module>\u001b[0;34m()\u001b[0m\n\u001b[1;32m      2\u001b[0m \u001b[0;32mfrom\u001b[0m \u001b[0msklearn\u001b[0m\u001b[0;34m.\u001b[0m\u001b[0mdecomposition\u001b[0m \u001b[0;32mimport\u001b[0m \u001b[0mPCA\u001b[0m\u001b[0;34m\u001b[0m\u001b[0;34m\u001b[0m\u001b[0m\n\u001b[1;32m      3\u001b[0m \u001b[0mpca1\u001b[0m \u001b[0;34m=\u001b[0m \u001b[0mPCA\u001b[0m\u001b[0;34m(\u001b[0m\u001b[0;36m0.95\u001b[0m\u001b[0;34m)\u001b[0m\u001b[0;34m\u001b[0m\u001b[0;34m\u001b[0m\u001b[0m\n\u001b[0;32m----> 4\u001b[0;31m \u001b[0mpca_train1\u001b[0m \u001b[0;34m=\u001b[0m \u001b[0mpca1\u001b[0m\u001b[0;34m.\u001b[0m\u001b[0mfit\u001b[0m\u001b[0;34m(\u001b[0m\u001b[0mx_train\u001b[0m\u001b[0;34m)\u001b[0m\u001b[0;34m\u001b[0m\u001b[0;34m\u001b[0m\u001b[0m\n\u001b[0m",
            "\u001b[0;31mNameError\u001b[0m: name 'x_train' is not defined"
          ]
        }
      ]
    },
    {
      "cell_type": "code",
      "metadata": {
        "colab": {
          "base_uri": "https://localhost:8080/",
          "height": 215
        },
        "id": "meFZHSwzXriS",
        "outputId": "8477cea6-238c-4657-bc74-5f383a329c14"
      },
      "source": [
        "explained_variance = pca1.explained_variance_ratio_\n",
        "plt.plot(np.cumsum(explained_variance))\n",
        "plt.xlabel('number of components')\n",
        "plt.ylabel('cumulative explained variance');"
      ],
      "execution_count": null,
      "outputs": [
        {
          "output_type": "error",
          "ename": "AttributeError",
          "evalue": "ignored",
          "traceback": [
            "\u001b[0;31m---------------------------------------------------------------------------\u001b[0m",
            "\u001b[0;31mAttributeError\u001b[0m                            Traceback (most recent call last)",
            "\u001b[0;32m<ipython-input-3-f204af257b22>\u001b[0m in \u001b[0;36m<module>\u001b[0;34m()\u001b[0m\n\u001b[0;32m----> 1\u001b[0;31m \u001b[0mexplained_variance\u001b[0m \u001b[0;34m=\u001b[0m \u001b[0mpca1\u001b[0m\u001b[0;34m.\u001b[0m\u001b[0mexplained_variance_ratio_\u001b[0m\u001b[0;34m\u001b[0m\u001b[0;34m\u001b[0m\u001b[0m\n\u001b[0m\u001b[1;32m      2\u001b[0m \u001b[0mplt\u001b[0m\u001b[0;34m.\u001b[0m\u001b[0mplot\u001b[0m\u001b[0;34m(\u001b[0m\u001b[0mnp\u001b[0m\u001b[0;34m.\u001b[0m\u001b[0mcumsum\u001b[0m\u001b[0;34m(\u001b[0m\u001b[0mexplained_variance\u001b[0m\u001b[0;34m)\u001b[0m\u001b[0;34m)\u001b[0m\u001b[0;34m\u001b[0m\u001b[0;34m\u001b[0m\u001b[0m\n\u001b[1;32m      3\u001b[0m \u001b[0mplt\u001b[0m\u001b[0;34m.\u001b[0m\u001b[0mxlabel\u001b[0m\u001b[0;34m(\u001b[0m\u001b[0;34m'number of components'\u001b[0m\u001b[0;34m)\u001b[0m\u001b[0;34m\u001b[0m\u001b[0;34m\u001b[0m\u001b[0m\n\u001b[1;32m      4\u001b[0m \u001b[0mplt\u001b[0m\u001b[0;34m.\u001b[0m\u001b[0mylabel\u001b[0m\u001b[0;34m(\u001b[0m\u001b[0;34m'cumulative explained variance'\u001b[0m\u001b[0;34m)\u001b[0m\u001b[0;34m;\u001b[0m\u001b[0;34m\u001b[0m\u001b[0;34m\u001b[0m\u001b[0m\n",
            "\u001b[0;31mAttributeError\u001b[0m: 'PCA' object has no attribute 'explained_variance_ratio_'"
          ]
        }
      ]
    },
    {
      "cell_type": "markdown",
      "metadata": {
        "id": "54bwKPATZJ6I"
      },
      "source": [
        "### PCA \n",
        "n_components = 10, 50\n"
      ]
    },
    {
      "cell_type": "code",
      "metadata": {
        "id": "rDe9MtNwZGmT"
      },
      "source": [
        "from sklearn.decomposition import PCA\n",
        "pca1 = PCA(n_components = 50)\n",
        "pca_train1 = pca1.fit(x_train)"
      ],
      "execution_count": null,
      "outputs": []
    },
    {
      "cell_type": "code",
      "metadata": {
        "colab": {
          "base_uri": "https://localhost:8080/",
          "height": 277
        },
        "id": "uh46lbqmX5n5",
        "outputId": "8e60b832-8d14-4198-a556-3e0e1e536783"
      },
      "source": [
        "explained_variance = pca1.explained_variance_ratio_\n",
        "plt.plot(np.cumsum(explained_variance))\n",
        "plt.xlabel('number of components')\n",
        "plt.ylabel('cumulative explained variance');"
      ],
      "execution_count": null,
      "outputs": [
        {
          "output_type": "display_data",
          "data": {
            "image/png": "[encoded data removed]",
            "text/plain": [
              "<Figure size 432x288 with 1 Axes>"
            ]
          },
          "metadata": {
            "tags": [],
            "needs_background": "light"
          }
        }
      ]
    },
    {
      "cell_type": "code",
      "metadata": {
        "id": "26pl51sjZYMr"
      },
      "source": [
        ""
      ],
      "execution_count": null,
      "outputs": []
    },
    {
      "cell_type": "markdown",
      "metadata": {
        "id": "Im6doJ4Hi35x"
      },
      "source": [
        "## inference\n",
        "\n",
        "Well in the data lacked collinearity to a great extent, PCA also i doubt will be abe to yield a better result. the above PCA cells indicate that expalained variance didn't improve after all"
      ]
    },
    {
      "cell_type": "markdown",
      "metadata": {
        "id": "2V1iYIdYjXHC"
      },
      "source": [
        "# Model With PCA = 50"
      ]
    },
    {
      "cell_type": "markdown",
      "metadata": {
        "id": "LlFk_73rmoFq"
      },
      "source": [
        "## Setting up PCA"
      ]
    },
    {
      "cell_type": "code",
      "metadata": {
        "colab": {
          "base_uri": "https://localhost:8080/",
          "height": 232
        },
        "id": "HvMTKK37i9u4",
        "outputId": "035b62d4-353f-488d-d37a-4addbe9f1c58"
      },
      "source": [
        "# Splitting\n",
        "from sklearn.model_selection import train_test_split\n",
        "\n",
        "x_train, x_test, y_train, y_test = train_test_split( train.iloc[: ,:-1], train.iloc[:,-1], \n",
        "                                                    test_size=0.2, random_state=2)\n",
        "print(\"X-train shape\", x_train.shape, \"\\nY-test shape\" ,y_test.shape)\n",
        "\n",
        "# Standard scaling\n",
        "from sklearn.preprocessing import StandardScaler\n",
        "\n",
        "ss = StandardScaler()\n",
        "x_train = pd.DataFrame(ss.fit_transform(x_train))\n",
        "x_test = pd.DataFrame(ss.fit_transform(x_test))"
      ],
      "execution_count": null,
      "outputs": [
        {
          "output_type": "error",
          "ename": "NameError",
          "evalue": "ignored",
          "traceback": [
            "\u001b[0;31m---------------------------------------------------------------------------\u001b[0m",
            "\u001b[0;31mNameError\u001b[0m                                 Traceback (most recent call last)",
            "\u001b[0;32m<ipython-input-1-dda859d94325>\u001b[0m in \u001b[0;36m<module>\u001b[0;34m()\u001b[0m\n\u001b[1;32m      2\u001b[0m \u001b[0;32mfrom\u001b[0m \u001b[0msklearn\u001b[0m\u001b[0;34m.\u001b[0m\u001b[0mmodel_selection\u001b[0m \u001b[0;32mimport\u001b[0m \u001b[0mtrain_test_split\u001b[0m\u001b[0;34m\u001b[0m\u001b[0;34m\u001b[0m\u001b[0m\n\u001b[1;32m      3\u001b[0m \u001b[0;34m\u001b[0m\u001b[0m\n\u001b[0;32m----> 4\u001b[0;31m x_train, x_test, y_train, y_test = train_test_split( train.iloc[: ,:-1], train.iloc[:,-1], \n\u001b[0m\u001b[1;32m      5\u001b[0m                                                     test_size=0.2, random_state=2)\n\u001b[1;32m      6\u001b[0m \u001b[0mprint\u001b[0m\u001b[0;34m(\u001b[0m\u001b[0;34m\"X-train shape\"\u001b[0m\u001b[0;34m,\u001b[0m \u001b[0mx_train\u001b[0m\u001b[0;34m.\u001b[0m\u001b[0mshape\u001b[0m\u001b[0;34m,\u001b[0m \u001b[0;34m\"\\nY-test shape\"\u001b[0m \u001b[0;34m,\u001b[0m\u001b[0my_test\u001b[0m\u001b[0;34m.\u001b[0m\u001b[0mshape\u001b[0m\u001b[0;34m)\u001b[0m\u001b[0;34m\u001b[0m\u001b[0;34m\u001b[0m\u001b[0m\n",
            "\u001b[0;31mNameError\u001b[0m: name 'train' is not defined"
          ]
        }
      ]
    },
    {
      "cell_type": "code",
      "metadata": {
        "id": "09au5S-fjeKe"
      },
      "source": [
        "# PCA = 50\n",
        "from sklearn.decomposition import PCA\n",
        "pca = PCA(n_components = 50)\n",
        "pca_train = pca.fit_transform(x_train)\n",
        "pca_test = pca.transform(x_test)\n",
        "pred_test = pca.transform(test)"
      ],
      "execution_count": null,
      "outputs": []
    },
    {
      "cell_type": "code",
      "metadata": {
        "id": "tUPX4S3hMWW0"
      },
      "source": [
        "pred_test1 = pca.fit_transform(test)"
      ],
      "execution_count": null,
      "outputs": []
    },
    {
      "cell_type": "code",
      "metadata": {
        "id": "eiwaz7abjlx-"
      },
      "source": [
        "pca_train = pd.DataFrame(pca_train)\n",
        "list_name = [f'pc{i}' for i in range(50)]\n",
        "pca_train.columns = list_name"
      ],
      "execution_count": null,
      "outputs": []
    },
    {
      "cell_type": "markdown",
      "metadata": {
        "id": "mko5cmJ7DM4n"
      },
      "source": [
        "these are called as spree plots: https://medium.com/@sercandogan/why-scree-plot-is-important-in-pca-a66cd7dcd624"
      ]
    },
    {
      "cell_type": "code",
      "metadata": {
        "id": "dwt_bQO4jwYd"
      },
      "source": [
        "explained_variance = pca.explained_variance_ratio_\n",
        "plt.plot(np.cumsum(explained_variance))\n",
        "plt.xlabel('number of components')\n",
        "plt.ylabel('cumulative explained variance');"
      ],
      "execution_count": null,
      "outputs": []
    },
    {
      "cell_type": "markdown",
      "metadata": {
        "id": "2OghvJf2j3xk"
      },
      "source": [
        "## RF model"
      ]
    },
    {
      "cell_type": "code",
      "metadata": {
        "colab": {
          "base_uri": "https://localhost:8080/",
          "height": 215
        },
        "id": "Iji3luIOmm2v",
        "outputId": "357ef502-3126-41c6-cc80-b1dcbece3211"
      },
      "source": [
        "# Import the model we are using\n",
        "from sklearn.ensemble import RandomForestRegressor\n",
        "\n",
        "# Initantiate model with 500 decision trees\n",
        "rf = RandomForestRegressor(n_estimators=500, max_depth = 20, \n",
        "                           min_samples_split = 50, min_samples_leaf = 10,\n",
        "                           verbose = 1)\n",
        "\n",
        "# Train the model on training data\n",
        "rf.fit(pca_train, y_train)\n",
        "\n"
      ],
      "execution_count": null,
      "outputs": [
        {
          "output_type": "error",
          "ename": "NameError",
          "evalue": "ignored",
          "traceback": [
            "\u001b[0;31m---------------------------------------------------------------------------\u001b[0m",
            "\u001b[0;31mNameError\u001b[0m                                 Traceback (most recent call last)",
            "\u001b[0;32m<ipython-input-1-286b680a6c5d>\u001b[0m in \u001b[0;36m<module>\u001b[0;34m()\u001b[0m\n\u001b[1;32m      8\u001b[0m \u001b[0;34m\u001b[0m\u001b[0m\n\u001b[1;32m      9\u001b[0m \u001b[0;31m# Train the model on training data\u001b[0m\u001b[0;34m\u001b[0m\u001b[0;34m\u001b[0m\u001b[0;34m\u001b[0m\u001b[0m\n\u001b[0;32m---> 10\u001b[0;31m \u001b[0mrf\u001b[0m\u001b[0;34m.\u001b[0m\u001b[0mfit\u001b[0m\u001b[0;34m(\u001b[0m\u001b[0mpca_train\u001b[0m\u001b[0;34m,\u001b[0m \u001b[0my_train\u001b[0m\u001b[0;34m)\u001b[0m\u001b[0;34m\u001b[0m\u001b[0;34m\u001b[0m\u001b[0m\n\u001b[0m\u001b[1;32m     11\u001b[0m \u001b[0;34m\u001b[0m\u001b[0m\n",
            "\u001b[0;31mNameError\u001b[0m: name 'pca_train' is not defined"
          ]
        }
      ]
    },
    {
      "cell_type": "code",
      "metadata": {
        "id": "vgBwYFWYnOxu"
      },
      "source": [
        "# Use the forest's predict method on the test data\n",
        "y_pred = rf.predict(pca_test)\n",
        "# Calculate the absolute errors\n",
        "errors = abs(y_pred - y_test)\n",
        "# Print out the mean absolute error (mae)\n",
        "print('Base line Mean Absolute Error', round(np.mean(errors), 4), 'degrees.')\n"
      ],
      "execution_count": null,
      "outputs": []
    },
    {
      "cell_type": "markdown",
      "metadata": {
        "id": "76bzt0irMh68"
      },
      "source": [
        ""
      ]
    },
    {
      "cell_type": "code",
      "metadata": {
        "id": "FQ_9DZeqMime"
      },
      "source": [
        "# fit transforming the test data set\n",
        "\n",
        "submission['loss'] = rf.predict(pred_test1)\n",
        "submission.to_csv(\"submission_rf_pca_fit_transform.csv\", index = False)"
      ],
      "execution_count": null,
      "outputs": []
    },
    {
      "cell_type": "code",
      "metadata": {
        "id": "Zrevu4I4KpH-"
      },
      "source": [
        "submission['loss'] = rf.predict(pred_test)\n",
        "submission.to_csv(\"submission_rf_pca.csv\", index = False)"
      ],
      "execution_count": null,
      "outputs": []
    },
    {
      "cell_type": "markdown",
      "metadata": {
        "id": "cZlSMslgnRv7"
      },
      "source": [
        "Well a sad thing happened, the PCA didn't help much, the error calculated wasn't good enough. If i increase the features, it defeats the purpose of PCA. Kry take away: PCA will work better of the data shows multicollinearity. \n",
        "\n"
      ]
    },
    {
      "cell_type": "markdown",
      "metadata": {
        "id": "7GQHEtUSFKT7"
      },
      "source": [
        "# Model with Light GBM"
      ]
    },
    {
      "cell_type": "code",
      "metadata": {
        "id": "XVhhQNyiFNoC",
        "colab": {
          "base_uri": "https://localhost:8080/"
        },
        "outputId": "88009196-1ebf-499e-84a9-3d5ffa0f1b45"
      },
      "source": [
        "# Splitting\n",
        "from sklearn.model_selection import train_test_split\n",
        "\n",
        "x_train, x_test, y_train, y_test = train_test_split( train.iloc[: ,:-1], train.iloc[:,-1], \n",
        "                                                    test_size=0.2, random_state=2)\n",
        "print(\"X-train shape\", x_train.shape, \"\\nY-test shape\" ,y_test.shape)"
      ],
      "execution_count": null,
      "outputs": [
        {
          "output_type": "stream",
          "text": [
            "X-train shape (200000, 100) \n",
            "Y-test shape (50000,)\n"
          ],
          "name": "stdout"
        }
      ]
    },
    {
      "cell_type": "markdown",
      "metadata": {
        "id": "n10LR77ItCwJ"
      },
      "source": [
        "## Base Model"
      ]
    },
    {
      "cell_type": "code",
      "metadata": {
        "colab": {
          "base_uri": "https://localhost:8080/"
        },
        "id": "3A2onyC2mCqa",
        "outputId": "6b10719c-4b46-4ec8-a5c1-0b08d9d96648"
      },
      "source": [
        "model = lgb.LGBMRegressor()\n",
        "model.fit(x_train, y_train)\n"
      ],
      "execution_count": null,
      "outputs": [
        {
          "output_type": "execute_result",
          "data": {
            "text/plain": [
              "LGBMRegressor(boosting_type='gbdt', class_weight=None, colsample_bytree=1.0,\n",
              "              importance_type='split', learning_rate=0.1, max_depth=-1,\n",
              "              min_child_samples=20, min_child_weight=0.001, min_split_gain=0.0,\n",
              "              n_estimators=100, n_jobs=-1, num_leaves=31, objective=None,\n",
              "              random_state=None, reg_alpha=0.0, reg_lambda=0.0, silent=True,\n",
              "              subsample=1.0, subsample_for_bin=200000, subsample_freq=0)"
            ]
          },
          "metadata": {
            "tags": []
          },
          "execution_count": 5
        }
      ]
    },
    {
      "cell_type": "code",
      "metadata": {
        "colab": {
          "base_uri": "https://localhost:8080/"
        },
        "id": "UW095yWfpb0T",
        "outputId": "379971f1-1725-475c-e98b-1aa831916368"
      },
      "source": [
        "# Use the forest's predict method on the test data\n",
        "y_pred = model.predict(x_test)\n",
        "# Calculate the absolute errors\n",
        "errors = abs(y_pred - y_test)\n",
        "# Print out the mean absolute error (mae)\n",
        "print('Base line Mean Absolute Error', round(np.mean(errors), 4), 'degrees.')\n",
        "# Print score top check overfiting\n",
        "print(\"train Score -\", model.score(x_train,y_train))\n",
        "print(\"test Score -\", model.score(x_test,y_test))"
      ],
      "execution_count": null,
      "outputs": [
        {
          "output_type": "stream",
          "text": [
            "Base line Mean Absolute Error 6.1792 degrees.\n",
            "train Score - 0.06259003026507326\n",
            "test Score - 0.01890684026810585\n"
          ],
          "name": "stdout"
        }
      ]
    },
    {
      "cell_type": "markdown",
      "metadata": {
        "id": "8O_Z3fu5vfNB"
      },
      "source": [
        "the scores are compatable, thus not overfitting"
      ]
    },
    {
      "cell_type": "markdown",
      "metadata": {
        "id": "KBHFJVgitGb6"
      },
      "source": [
        "## parametric tuning\n",
        "https://www.kaggle.com/lasmith/house-price-regression-with-lightgbm\n"
      ]
    },
    {
      "cell_type": "markdown",
      "metadata": {
        "id": "-sWVQSqFyVZE"
      },
      "source": [
        "### lgbm 1.0"
      ]
    },
    {
      "cell_type": "code",
      "metadata": {
        "colab": {
          "base_uri": "https://localhost:8080/"
        },
        "id": "bkr8m7yvqAaE",
        "outputId": "53ed70dc-ec9e-4726-ecd0-4ab15c7f13ac"
      },
      "source": [
        "model = lgb.LGBMRegressor(num_leaves = 50, n_estimators=500, random_state = 2 )\n",
        "model.fit(x_train, y_train)"
      ],
      "execution_count": null,
      "outputs": [
        {
          "output_type": "execute_result",
          "data": {
            "text/plain": [
              "LGBMRegressor(boosting_type='gbdt', class_weight=None, colsample_bytree=1.0,\n",
              "              importance_type='split', learning_rate=0.1, max_depth=-1,\n",
              "              min_child_samples=20, min_child_weight=0.001, min_split_gain=0.0,\n",
              "              n_estimators=500, n_jobs=-1, num_leaves=50, objective=None,\n",
              "              random_state=2, reg_alpha=0.0, reg_lambda=0.0, silent=True,\n",
              "              subsample=1.0, subsample_for_bin=200000, subsample_freq=0)"
            ]
          },
          "metadata": {
            "tags": []
          },
          "execution_count": 10
        }
      ]
    },
    {
      "cell_type": "code",
      "metadata": {
        "colab": {
          "base_uri": "https://localhost:8080/"
        },
        "id": "B6s07-n7xzSn",
        "outputId": "7740a88e-2638-4827-a9b5-d2475214c2c6"
      },
      "source": [
        "# Use the forest's predict method on the test data\n",
        "y_pred = model.predict(x_test)\n",
        "# Calculate the absolute errors\n",
        "errors = abs(y_pred - y_test)\n",
        "# Print out the mean absolute error (mae)\n",
        "print('Base line Mean Absolute Error', round(np.mean(errors), 4), 'degrees.')\n",
        "# Print score top check overfiting\n",
        "print(\"train Score -\", model.score(x_train,y_train))\n",
        "print(\"test Score -\", model.score(x_test,y_test))"
      ],
      "execution_count": null,
      "outputs": [
        {
          "output_type": "stream",
          "text": [
            "Base line Mean Absolute Error 6.1885 degrees.\n",
            "train Score - 0.2935958904904493\n",
            "test Score - 0.009871769304065081\n"
          ],
          "name": "stdout"
        }
      ]
    },
    {
      "cell_type": "markdown",
      "metadata": {
        "id": "5NnkqwqpyYyj"
      },
      "source": [
        "### lgbm 2.0"
      ]
    },
    {
      "cell_type": "code",
      "metadata": {
        "colab": {
          "base_uri": "https://localhost:8080/"
        },
        "id": "CcTrzNP0x-5L",
        "outputId": "c971bfe0-8c54-4ae0-c896-34524117704e"
      },
      "source": [
        "model = lgb.LGBMRegressor(n_estimators=500, random_state = 2 )\n",
        "model.fit(x_train, y_train)"
      ],
      "execution_count": null,
      "outputs": [
        {
          "output_type": "execute_result",
          "data": {
            "text/plain": [
              "LGBMRegressor(boosting_type='gbdt', class_weight=None, colsample_bytree=1.0,\n",
              "              importance_type='split', learning_rate=0.1, max_depth=-1,\n",
              "              min_child_samples=20, min_child_weight=0.001, min_split_gain=0.0,\n",
              "              n_estimators=500, n_jobs=-1, num_leaves=31, objective=None,\n",
              "              random_state=2, reg_alpha=0.0, reg_lambda=0.0, silent=True,\n",
              "              subsample=1.0, subsample_for_bin=200000, subsample_freq=0)"
            ]
          },
          "metadata": {
            "tags": []
          },
          "execution_count": 12
        }
      ]
    },
    {
      "cell_type": "code",
      "metadata": {
        "colab": {
          "base_uri": "https://localhost:8080/"
        },
        "id": "Ag0AGXppyfmu",
        "outputId": "8dce38c4-7c9b-43af-c427-93b2573c435c"
      },
      "source": [
        "# Use the forest's predict method on the test data\n",
        "y_pred = model.predict(x_test)\n",
        "# Calculate the absolute errors\n",
        "errors = abs(y_pred - y_test)\n",
        "# Print out the mean absolute error (mae)\n",
        "print('Base line Mean Absolute Error', round(np.mean(errors), 4), 'degrees.')\n",
        "# Print score top check overfiting\n",
        "print(\"train Score -\", model.score(x_train,y_train))\n",
        "print(\"test Score -\", model.score(x_test,y_test))"
      ],
      "execution_count": null,
      "outputs": [
        {
          "output_type": "stream",
          "text": [
            "Base line Mean Absolute Error 6.1762 degrees.\n",
            "train Score - 0.2002080116856917\n",
            "test Score - 0.016337712784154967\n"
          ],
          "name": "stdout"
        }
      ]
    },
    {
      "cell_type": "markdown",
      "metadata": {
        "id": "efzJl7bYz_DO"
      },
      "source": [
        "### lgbm 3.0"
      ]
    },
    {
      "cell_type": "code",
      "metadata": {
        "colab": {
          "base_uri": "https://localhost:8080/"
        },
        "id": "44qqn7vkyhOy",
        "outputId": "39655110-c4ff-4f8a-cfba-b81f743ba505"
      },
      "source": [
        "model = lgb.LGBMRegressor(n_estimators=200, max_depth =20 , random_state = 2 )\n",
        "model.fit(x_train, y_train)"
      ],
      "execution_count": null,
      "outputs": [
        {
          "output_type": "execute_result",
          "data": {
            "text/plain": [
              "LGBMRegressor(boosting_type='gbdt', class_weight=None, colsample_bytree=1.0,\n",
              "              importance_type='split', learning_rate=0.1, max_depth=20,\n",
              "              min_child_samples=20, min_child_weight=0.001, min_split_gain=0.0,\n",
              "              n_estimators=200, n_jobs=-1, num_leaves=31, objective=None,\n",
              "              random_state=2, reg_alpha=0.0, reg_lambda=0.0, silent=True,\n",
              "              subsample=1.0, subsample_for_bin=200000, subsample_freq=0)"
            ]
          },
          "metadata": {
            "tags": []
          },
          "execution_count": 18
        }
      ]
    },
    {
      "cell_type": "code",
      "metadata": {
        "colab": {
          "base_uri": "https://localhost:8080/"
        },
        "id": "Xx_ZsiXY0yMU",
        "outputId": "df0e0609-875a-45c1-dc1a-976b2f263caf"
      },
      "source": [
        "# Use the forest's predict method on the test data\n",
        "y_pred = model.predict(x_test)\n",
        "# Calculate the absolute errors\n",
        "errors = abs(y_pred - y_test)\n",
        "# Print out the mean absolute error (mae)\n",
        "print('Base line Mean Absolute Error', round(np.mean(errors), 4), 'degrees.')\n",
        "# Print score top check overfiting\n",
        "print(\"train Score -\", model.score(x_train,y_train))\n",
        "print(\"test Score -\", model.score(x_test,y_test))"
      ],
      "execution_count": null,
      "outputs": [
        {
          "output_type": "stream",
          "text": [
            "Base line Mean Absolute Error 6.1732 degrees.\n",
            "train Score - 0.10230264974872007\n",
            "test Score - 0.01912578662861375\n"
          ],
          "name": "stdout"
        }
      ]
    },
    {
      "cell_type": "markdown",
      "metadata": {
        "id": "6fDoIgbP0ztD"
      },
      "source": [
        "### lgbm 4.0"
      ]
    },
    {
      "cell_type": "code",
      "metadata": {
        "colab": {
          "base_uri": "https://localhost:8080/"
        },
        "id": "c3WAShL_03iY",
        "outputId": "d507bb31-5d67-499e-dd5d-8b0a156ba818"
      },
      "source": [
        "model = lgb.LGBMRegressor(num_iteration =500,  learning_rate=0.05, n_estimators=200, \n",
        "                          max_depth = 10 , random_state = 2 )\n",
        "model.fit(x_train, y_train)"
      ],
      "execution_count": null,
      "outputs": [
        {
          "output_type": "stream",
          "text": [
            "/usr/local/lib/python3.7/dist-packages/lightgbm/engine.py:118: UserWarning: Found `num_iteration` in params. Will use it instead of argument\n",
            "  warnings.warn(\"Found `{}` in params. Will use it instead of argument\".format(alias))\n"
          ],
          "name": "stderr"
        },
        {
          "output_type": "execute_result",
          "data": {
            "text/plain": [
              "LGBMRegressor(boosting_type='gbdt', class_weight=None, colsample_bytree=1.0,\n",
              "              importance_type='split', learning_rate=0.05, max_depth=10,\n",
              "              min_child_samples=20, min_child_weight=0.001, min_split_gain=0.0,\n",
              "              n_estimators=200, n_jobs=-1, num_iteration=500, num_leaves=31,\n",
              "              objective=None, random_state=2, reg_alpha=0.0, reg_lambda=0.0,\n",
              "              silent=True, subsample=1.0, subsample_for_bin=200000,\n",
              "              subsample_freq=0)"
            ]
          },
          "metadata": {
            "tags": []
          },
          "execution_count": 40
        }
      ]
    },
    {
      "cell_type": "code",
      "metadata": {
        "colab": {
          "base_uri": "https://localhost:8080/"
        },
        "id": "p5ykSg7U05oC",
        "outputId": "00d3451d-8432-42a4-a54a-c00bbe2b30cb"
      },
      "source": [
        "# Use the forest's predict method on the test data\n",
        "y_pred = model.predict(x_test)\n",
        "# Calculate the absolute errors\n",
        "errors = abs(y_pred - y_test)\n",
        "# Print out the mean absolute error (mae)\n",
        "print('Base line Mean Absolute Error', round(np.mean(errors), 4), 'degrees.')\n",
        "# Print score top check overfiting\n",
        "print(\"train Score -\", model.score(x_train,y_train))\n",
        "print(\"test Score -\", model.score(x_test,y_test))"
      ],
      "execution_count": null,
      "outputs": [
        {
          "output_type": "stream",
          "text": [
            "Base line Mean Absolute Error 6.1717 degrees.\n",
            "train Score - 0.11941161526461753\n",
            "test Score - 0.019767842871647567\n"
          ],
          "name": "stdout"
        }
      ]
    },
    {
      "cell_type": "markdown",
      "metadata": {
        "id": "6sJpPUGNCPWB"
      },
      "source": [
        "### lgbm 5.0"
      ]
    },
    {
      "cell_type": "code",
      "metadata": {
        "colab": {
          "base_uri": "https://localhost:8080/"
        },
        "id": "X0EgeC2vDB-G",
        "outputId": "5b1ec066-0ded-4648-e319-2092b9953d2c"
      },
      "source": [
        "model = lgb.LGBMRegressor(num_iteration =800,  learning_rate=0.05, n_estimators=200, \n",
        "                          max_depth = 10 , random_state = 2 )\n",
        "model.fit(x_train, y_train)"
      ],
      "execution_count": null,
      "outputs": [
        {
          "output_type": "stream",
          "text": [
            "/usr/local/lib/python3.7/dist-packages/lightgbm/engine.py:118: UserWarning: Found `num_iteration` in params. Will use it instead of argument\n",
            "  warnings.warn(\"Found `{}` in params. Will use it instead of argument\".format(alias))\n"
          ],
          "name": "stderr"
        },
        {
          "output_type": "execute_result",
          "data": {
            "text/plain": [
              "LGBMRegressor(boosting_type='gbdt', class_weight=None, colsample_bytree=1.0,\n",
              "              importance_type='split', learning_rate=0.05, max_depth=10,\n",
              "              min_child_samples=20, min_child_weight=0.001, min_split_gain=0.0,\n",
              "              n_estimators=200, n_jobs=-1, num_iteration=800, num_leaves=31,\n",
              "              objective=None, random_state=2, reg_alpha=0.0, reg_lambda=0.0,\n",
              "              silent=True, subsample=1.0, subsample_for_bin=200000,\n",
              "              subsample_freq=0)"
            ]
          },
          "metadata": {
            "tags": []
          },
          "execution_count": 48
        }
      ]
    },
    {
      "cell_type": "code",
      "metadata": {
        "colab": {
          "base_uri": "https://localhost:8080/"
        },
        "id": "fW_tyO-lDJfi",
        "outputId": "a78a5ea3-c1a0-4023-a943-7cc1e8e04c8a"
      },
      "source": [
        "# Use the forest's predict method on the test data\n",
        "y_pred = model.predict(x_test)\n",
        "# Calculate the absolute errors\n",
        "errors = abs(y_pred - y_test)\n",
        "# Print out the mean absolute error (mae)\n",
        "print('Base line Mean Absolute Error', round(np.mean(errors), 4), 'degrees.')\n",
        "# Print score top check overfiting\n",
        "print(\"train Score -\", model.score(x_train,y_train))\n",
        "print(\"test Score -\", model.score(x_test,y_test))"
      ],
      "execution_count": null,
      "outputs": [
        {
          "output_type": "stream",
          "text": [
            "Base line Mean Absolute Error 6.1699 degrees.\n",
            "train Score - 0.16936489227814466\n",
            "test Score - 0.019311624102274383\n"
          ],
          "name": "stdout"
        }
      ]
    },
    {
      "cell_type": "markdown",
      "metadata": {
        "id": "iicAzWdO1H1j"
      },
      "source": [
        "### lgbm 6.0"
      ]
    },
    {
      "cell_type": "code",
      "metadata": {
        "colab": {
          "base_uri": "https://localhost:8080/"
        },
        "id": "eOwUzN99CBMh",
        "outputId": "efc3d5ef-ada2-4eac-ca47-25c63dfb0ae2"
      },
      "source": [
        "model = lgb.LGBMRegressor(num_iteration = 800,  learning_rate=0.03, n_estimators=150, \n",
        "                           max_depth = 5, random_state = 10 )\n",
        "model.fit(x_train, y_train)"
      ],
      "execution_count": null,
      "outputs": [
        {
          "output_type": "stream",
          "text": [
            "/usr/local/lib/python3.7/dist-packages/lightgbm/engine.py:118: UserWarning: Found `num_iteration` in params. Will use it instead of argument\n",
            "  warnings.warn(\"Found `{}` in params. Will use it instead of argument\".format(alias))\n"
          ],
          "name": "stderr"
        },
        {
          "output_type": "execute_result",
          "data": {
            "text/plain": [
              "LGBMRegressor(boosting_type='gbdt', class_weight=None, colsample_bytree=1.0,\n",
              "              importance_type='split', learning_rate=0.03, max_depth=5,\n",
              "              min_child_samples=20, min_child_weight=0.001, min_split_gain=0.0,\n",
              "              n_estimators=150, n_jobs=-1, num_iteration=800, num_leaves=31,\n",
              "              objective=None, random_state=10, reg_alpha=0.0, reg_lambda=0.0,\n",
              "              silent=True, subsample=1.0, subsample_for_bin=200000,\n",
              "              subsample_freq=0)"
            ]
          },
          "metadata": {
            "tags": []
          },
          "execution_count": 76
        }
      ]
    },
    {
      "cell_type": "code",
      "metadata": {
        "colab": {
          "base_uri": "https://localhost:8080/"
        },
        "id": "TADRg-aZCN3z",
        "outputId": "a1404e00-0376-4050-bb0c-524523431540"
      },
      "source": [
        "# Use the forest's predict method on the test data\n",
        "y_pred = model.predict(x_test)\n",
        "# Calculate the absolute errors\n",
        "errors = abs(y_pred - y_test)\n",
        "# Print out the mean absolute error (mae)\n",
        "print('Base line Mean Absolute Error', round(np.mean(errors), 4), 'degrees.')\n",
        "# Print score top check overfiting\n",
        "print(\"train Score -\", model.score(x_train,y_train))\n",
        "print(\"test Score -\", model.score(x_test,y_test))"
      ],
      "execution_count": null,
      "outputs": [
        {
          "output_type": "stream",
          "text": [
            "Base line Mean Absolute Error 6.1627 degrees.\n",
            "train Score - 0.09648004377545671\n",
            "test Score - 0.02170096543853095\n"
          ],
          "name": "stdout"
        }
      ]
    },
    {
      "cell_type": "markdown",
      "metadata": {
        "id": "tNfv7LboEqEG"
      },
      "source": [
        "### LGBM 7.0 with random search cv\n"
      ]
    },
    {
      "cell_type": "code",
      "metadata": {
        "id": "J_7DUU1bLaYM"
      },
      "source": [
        "n_estimators = [100, 200, 300, 500, 800, 900]\n",
        "\n",
        "num_leaves = [30, 50, 80, 100, 150]\n",
        "\n",
        "random_state = [2, 5, 20]\n",
        "\n",
        "max_depth = [10, 20, 50, 100]\n",
        "\n",
        "learning_rate = [0.01, 0.02, 0.03, 0.05, 0.1]\n",
        "\n",
        "num_iteration = [200, 500, 600, 800, 1000]\n"
      ],
      "execution_count": null,
      "outputs": []
    },
    {
      "cell_type": "code",
      "metadata": {
        "id": "F-VrLBVBLiDp"
      },
      "source": [
        "# Dictionary of parameters\n",
        "\n",
        "params = {'n_estimators': n_estimators,\n",
        "          'num_leaves': num_leaves,\n",
        "          'random_state': random_state,\n",
        "          'max_depth': max_depth, \n",
        "          'learning_rate': learning_rate, \n",
        "          'num_iteration': num_iteration\n",
        "          } "
      ],
      "execution_count": null,
      "outputs": []
    },
    {
      "cell_type": "code",
      "metadata": {
        "id": "7yceIsKfOKhy"
      },
      "source": [
        "x = train.iloc[:,:-1]\n",
        "y = train['loss']"
      ],
      "execution_count": null,
      "outputs": []
    },
    {
      "cell_type": "code",
      "metadata": {
        "colab": {
          "base_uri": "https://localhost:8080/"
        },
        "id": "YyNBKCqBL-74",
        "outputId": "1e287729-1e04-4d7b-bed5-cbacbf3949bd"
      },
      "source": [
        "\n",
        "# create model\n",
        "model = lgb.LGBMRegressor()\n",
        "\n",
        "r_search = RandomizedSearchCV(estimator = model, param_distributions = params, \n",
        "                              cv = 3, scoring ='neg_mean_absolute_error', \n",
        "                              n_iter = 5, verbose=1, return_train_score=True)\n",
        "\n",
        "r_search.fit(x,y)"
      ],
      "execution_count": null,
      "outputs": [
        {
          "output_type": "stream",
          "name": "stdout",
          "text": [
            "Fitting 3 folds for each of 5 candidates, totalling 15 fits\n"
          ]
        },
        {
          "output_type": "stream",
          "name": "stderr",
          "text": [
            "[Parallel(n_jobs=1)]: Using backend SequentialBackend with 1 concurrent workers.\n",
            "/usr/local/lib/python3.7/dist-packages/lightgbm/engine.py:118: UserWarning: Found `num_iteration` in params. Will use it instead of argument\n",
            "  warnings.warn(\"Found `{}` in params. Will use it instead of argument\".format(alias))\n",
            "/usr/local/lib/python3.7/dist-packages/lightgbm/engine.py:118: UserWarning: Found `num_iteration` in params. Will use it instead of argument\n",
            "  warnings.warn(\"Found `{}` in params. Will use it instead of argument\".format(alias))\n",
            "/usr/local/lib/python3.7/dist-packages/lightgbm/engine.py:118: UserWarning: Found `num_iteration` in params. Will use it instead of argument\n",
            "  warnings.warn(\"Found `{}` in params. Will use it instead of argument\".format(alias))\n",
            "/usr/local/lib/python3.7/dist-packages/lightgbm/engine.py:118: UserWarning: Found `num_iteration` in params. Will use it instead of argument\n",
            "  warnings.warn(\"Found `{}` in params. Will use it instead of argument\".format(alias))\n",
            "/usr/local/lib/python3.7/dist-packages/lightgbm/engine.py:118: UserWarning: Found `num_iteration` in params. Will use it instead of argument\n",
            "  warnings.warn(\"Found `{}` in params. Will use it instead of argument\".format(alias))\n",
            "/usr/local/lib/python3.7/dist-packages/lightgbm/engine.py:118: UserWarning: Found `num_iteration` in params. Will use it instead of argument\n",
            "  warnings.warn(\"Found `{}` in params. Will use it instead of argument\".format(alias))\n",
            "/usr/local/lib/python3.7/dist-packages/lightgbm/engine.py:118: UserWarning: Found `num_iteration` in params. Will use it instead of argument\n",
            "  warnings.warn(\"Found `{}` in params. Will use it instead of argument\".format(alias))\n",
            "/usr/local/lib/python3.7/dist-packages/lightgbm/engine.py:118: UserWarning: Found `num_iteration` in params. Will use it instead of argument\n",
            "  warnings.warn(\"Found `{}` in params. Will use it instead of argument\".format(alias))\n",
            "/usr/local/lib/python3.7/dist-packages/lightgbm/engine.py:118: UserWarning: Found `num_iteration` in params. Will use it instead of argument\n",
            "  warnings.warn(\"Found `{}` in params. Will use it instead of argument\".format(alias))\n",
            "/usr/local/lib/python3.7/dist-packages/lightgbm/engine.py:118: UserWarning: Found `num_iteration` in params. Will use it instead of argument\n",
            "  warnings.warn(\"Found `{}` in params. Will use it instead of argument\".format(alias))\n",
            "/usr/local/lib/python3.7/dist-packages/lightgbm/engine.py:118: UserWarning: Found `num_iteration` in params. Will use it instead of argument\n",
            "  warnings.warn(\"Found `{}` in params. Will use it instead of argument\".format(alias))\n",
            "/usr/local/lib/python3.7/dist-packages/lightgbm/engine.py:118: UserWarning: Found `num_iteration` in params. Will use it instead of argument\n",
            "  warnings.warn(\"Found `{}` in params. Will use it instead of argument\".format(alias))\n",
            "/usr/local/lib/python3.7/dist-packages/lightgbm/engine.py:118: UserWarning: Found `num_iteration` in params. Will use it instead of argument\n",
            "  warnings.warn(\"Found `{}` in params. Will use it instead of argument\".format(alias))\n",
            "/usr/local/lib/python3.7/dist-packages/lightgbm/engine.py:118: UserWarning: Found `num_iteration` in params. Will use it instead of argument\n",
            "  warnings.warn(\"Found `{}` in params. Will use it instead of argument\".format(alias))\n",
            "/usr/local/lib/python3.7/dist-packages/lightgbm/engine.py:118: UserWarning: Found `num_iteration` in params. Will use it instead of argument\n",
            "  warnings.warn(\"Found `{}` in params. Will use it instead of argument\".format(alias))\n",
            "[Parallel(n_jobs=1)]: Done  15 out of  15 | elapsed: 35.7min finished\n",
            "/usr/local/lib/python3.7/dist-packages/lightgbm/engine.py:118: UserWarning: Found `num_iteration` in params. Will use it instead of argument\n",
            "  warnings.warn(\"Found `{}` in params. Will use it instead of argument\".format(alias))\n"
          ]
        },
        {
          "output_type": "execute_result",
          "data": {
            "text/plain": [
              "RandomizedSearchCV(cv=3, error_score=nan,\n",
              "                   estimator=LGBMRegressor(boosting_type='gbdt',\n",
              "                                           class_weight=None,\n",
              "                                           colsample_bytree=1.0,\n",
              "                                           importance_type='split',\n",
              "                                           learning_rate=0.1, max_depth=-1,\n",
              "                                           min_child_samples=20,\n",
              "                                           min_child_weight=0.001,\n",
              "                                           min_split_gain=0.0, n_estimators=100,\n",
              "                                           n_jobs=-1, num_leaves=31,\n",
              "                                           objective=None, random_state=None,\n",
              "                                           reg_alpha=0.0, reg_lambda=0.0,\n",
              "                                           silen...\n",
              "                   iid='deprecated', n_iter=5, n_jobs=None,\n",
              "                   param_distributions={'learning_rate': [0.01, 0.02, 0.03,\n",
              "                                                          0.05, 0.1],\n",
              "                                        'max_depth': [10, 20, 50, 100],\n",
              "                                        'n_estimators': [100, 200, 300, 500,\n",
              "                                                         800, 900],\n",
              "                                        'num_iteration': [200, 500, 600, 800,\n",
              "                                                          1000],\n",
              "                                        'num_leaves': [30, 50, 80, 100, 150],\n",
              "                                        'random_state': [2, 5, 20]},\n",
              "                   pre_dispatch='2*n_jobs', random_state=None, refit=True,\n",
              "                   return_train_score=True, scoring='neg_mean_absolute_error',\n",
              "                   verbose=1)"
            ]
          },
          "metadata": {},
          "execution_count": 26
        }
      ]
    },
    {
      "cell_type": "code",
      "metadata": {
        "colab": {
          "base_uri": "https://localhost:8080/"
        },
        "id": "tPCAtI5o3Tox",
        "outputId": "d6016d35-fff5-4ceb-941e-79e1292f79d6"
      },
      "source": [
        "print('Best parameters', r_search.best_params_)\n",
        "print('Best score', -r_search.best_score_)"
      ],
      "execution_count": null,
      "outputs": [
        {
          "output_type": "stream",
          "name": "stdout",
          "text": [
            "Best parameters {'random_state': 2, 'num_leaves': 100, 'num_iteration': 600, 'n_estimators': 200, 'max_depth': 10, 'learning_rate': 0.03}\n",
            "Best score 6.115771005484581\n"
          ]
        }
      ]
    },
    {
      "cell_type": "code",
      "metadata": {
        "colab": {
          "base_uri": "https://localhost:8080/"
        },
        "id": "XUHrMphx3ato",
        "outputId": "5785cc75-ed8a-4413-bde5-c2809008af03"
      },
      "source": [
        "model = lgb.LGBMRegressor(num_iteration =600, num_leaves = 100, max_depth = 10, learning_rate = 0.03,\n",
        "                          n_estimators = 200, random_state = 2 )\n",
        "  \n",
        "model.fit(x,y)\n",
        "\n",
        "submission[\"loss\"] = model.predict(test)\n",
        "submission.to_csv('submission-> rn + iter full cv.csv', index = False)"
      ],
      "execution_count": null,
      "outputs": [
        {
          "output_type": "stream",
          "name": "stderr",
          "text": [
            "/usr/local/lib/python3.7/dist-packages/lightgbm/engine.py:118: UserWarning: Found `num_iteration` in params. Will use it instead of argument\n",
            "  warnings.warn(\"Found `{}` in params. Will use it instead of argument\".format(alias))\n"
          ]
        }
      ]
    },
    {
      "cell_type": "code",
      "metadata": {
        "colab": {
          "base_uri": "https://localhost:8080/"
        },
        "id": "LrmMGAj9ic7N",
        "outputId": "a30cf461-c267-4efb-98c9-48803cc4986b"
      },
      "source": [
        "print('Best parameters', r_search.best_params_)\n",
        "print('Best score', -r_search.best_score_)"
      ],
      "execution_count": null,
      "outputs": [
        {
          "output_type": "stream",
          "name": "stdout",
          "text": [
            "Best parameters {'random_state': 5, 'num_leaves': 80, 'n_estimators': 500, 'max_depth': 10, 'learning_rate': 0.03}\n",
            "Best score 6.113299316682611\n"
          ]
        }
      ]
    },
    {
      "cell_type": "code",
      "metadata": {
        "id": "8lNtDLK6apAn"
      },
      "source": [
        "model = lgb.LGBMRegressor(num_leaves = 80, max_depth = 10, learning_rate = 0.03,\n",
        "                          n_estimators = 300, random_state = 5 )\n",
        "  \n",
        "model.fit(x,y)\n",
        "\n",
        "submission[\"loss\"] = model.predict(test)\n",
        "submission.to_csv('submission-> rn cv.csv', index = False)"
      ],
      "execution_count": null,
      "outputs": []
    },
    {
      "cell_type": "code",
      "metadata": {
        "colab": {
          "base_uri": "https://localhost:8080/"
        },
        "id": "M9R-7mYTjZDF",
        "outputId": "a7317289-0361-4316-c54b-4eda4f88b4e6"
      },
      "source": [
        "model = lgb.LGBMRegressor(num_iteration =800, num_leaves = 80, max_depth = 10, learning_rate = 0.03,\n",
        "                          n_estimators = 300, random_state = 5 )\n",
        "  \n",
        "model.fit(x,y)\n",
        "\n",
        "submission[\"loss\"] = model.predict(test)\n",
        "submission.to_csv('submission-> rn + iter cv.csv', index = False)"
      ],
      "execution_count": null,
      "outputs": [
        {
          "output_type": "stream",
          "name": "stderr",
          "text": [
            "/usr/local/lib/python3.7/dist-packages/lightgbm/engine.py:118: UserWarning: Found `num_iteration` in params. Will use it instead of argument\n",
            "  warnings.warn(\"Found `{}` in params. Will use it instead of argument\".format(alias))\n"
          ]
        }
      ]
    },
    {
      "cell_type": "markdown",
      "metadata": {
        "id": "eIrLHJDKrkff"
      },
      "source": [
        "### LGBM 8.0 last try"
      ]
    },
    {
      "cell_type": "code",
      "metadata": {
        "id": "1TvopExSFh7r"
      },
      "source": [
        "x = train.iloc[:,:-1]\n",
        "y = train['loss']"
      ],
      "execution_count": null,
      "outputs": []
    },
    {
      "cell_type": "code",
      "metadata": {
        "colab": {
          "base_uri": "https://localhost:8080/"
        },
        "id": "sjwpgYCnFlaj",
        "outputId": "2def3ba8-f284-4026-f25d-e55dc10dcace"
      },
      "source": [
        "model = lgb.LGBMRegressor(num_iteration =800, num_leaves = 100, max_depth = 10, learning_rate = 0.03,\n",
        "                          n_estimators = 300, random_state = 5 )\n",
        "  \n",
        "model.fit(x,y)\n",
        "\n",
        "submission[\"loss\"] = model.predict(test)\n",
        "submission.to_csv('submission-> last try combine all effects.csv', index = False)"
      ],
      "execution_count": null,
      "outputs": [
        {
          "output_type": "stream",
          "name": "stderr",
          "text": [
            "/usr/local/lib/python3.7/dist-packages/lightgbm/engine.py:118: UserWarning: Found `num_iteration` in params. Will use it instead of argument\n",
            "  warnings.warn(\"Found `{}` in params. Will use it instead of argument\".format(alias))\n"
          ]
        }
      ]
    },
    {
      "cell_type": "code",
      "metadata": {
        "id": "S_xBjwRhGAdA"
      },
      "source": [
        "|"
      ],
      "execution_count": null,
      "outputs": []
    }
  ]
}